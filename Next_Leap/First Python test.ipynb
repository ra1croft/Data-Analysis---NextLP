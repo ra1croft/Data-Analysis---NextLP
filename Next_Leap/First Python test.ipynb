{
 "cells": [
  {
   "cell_type": "code",
   "execution_count": 8,
   "id": "3dd55d7e-372a-475e-83c1-fcb6bb6515c2",
   "metadata": {},
   "outputs": [
    {
     "data": {
      "text/plain": [
       "10"
      ]
     },
     "execution_count": 8,
     "metadata": {},
     "output_type": "execute_result"
    }
   ],
   "source": [
    "5+5"
   ]
  },
  {
   "cell_type": "code",
   "execution_count": 2,
   "id": "525d1dc9-e4c4-4ea6-8358-9138a990640d",
   "metadata": {},
   "outputs": [
    {
     "data": {
      "text/plain": [
       "32"
      ]
     },
     "execution_count": 2,
     "metadata": {},
     "output_type": "execute_result"
    }
   ],
   "source": [
    "2+30"
   ]
  },
  {
   "cell_type": "code",
   "execution_count": 14,
   "id": "8f6e4288-5b70-4731-b2a4-6adce1244c86",
   "metadata": {},
   "outputs": [
    {
     "name": "stdout",
     "output_type": "stream",
     "text": [
      "eligible\n"
     ]
    }
   ],
   "source": [
    "age=21\n",
    "income=60000\n",
    "if (age>20 and income>50000):\n",
    "    print(\"eligible\")\n",
    "else:\n",
    " print(\"Not Eligible\")"
   ]
  },
  {
   "cell_type": "code",
   "execution_count": 8,
   "id": "463c8695-7255-4866-a8c4-46579055c2ad",
   "metadata": {},
   "outputs": [
    {
     "name": "stdout",
     "output_type": "stream",
     "text": [
      "1\n",
      "2\n",
      "3\n",
      "4\n",
      "5\n",
      "6\n",
      "7\n",
      "8\n",
      "9\n",
      "10\n",
      "11\n",
      "12\n",
      "13\n",
      "14\n",
      "15\n",
      "16\n",
      "17\n",
      "18\n",
      "19\n"
     ]
    }
   ],
   "source": [
    "a=1\n",
    "b=20\n",
    "while(b>a):\n",
    "    print(a)\n",
    "    a=a+1\n",
    "    if(a==b):\n",
    "        break\n",
    "        print(\"Liftoff!\")\n",
    "    "
   ]
  },
  {
   "cell_type": "code",
   "execution_count": 19,
   "id": "6ea5fa2a-a92b-4671-b072-f2235d972afb",
   "metadata": {},
   "outputs": [
    {
     "name": "stdout",
     "output_type": "stream",
     "text": [
      "20\n",
      "19\n",
      "18\n",
      "17\n",
      "16\n",
      "15\n",
      "14\n",
      "13\n",
      "12\n",
      "11\n",
      "10\n",
      "9\n",
      "8\n",
      "7\n",
      "6\n",
      "5\n",
      "4\n",
      "3\n",
      "2\n",
      "1\n"
     ]
    }
   ],
   "source": [
    "start=20\n",
    "end=0\n",
    "while(start>end):\n",
    "    if(start==end):\n",
    "        print(\"Liftoff!\")\n",
    "        continue\n",
    "        #start=start-1\n",
    "    print(start)\n",
    "    start=start-1"
   ]
  },
  {
   "cell_type": "code",
   "execution_count": 21,
   "id": "07afcac7-7850-464e-bf47-f9b23b0052eb",
   "metadata": {},
   "outputs": [],
   "source": [
    "import pandas as pd\n",
    "import numpy  as np"
   ]
  },
  {
   "cell_type": "code",
   "execution_count": 25,
   "id": "2a7d11cd-de6b-432b-a033-4006a1860867",
   "metadata": {},
   "outputs": [
    {
     "name": "stdout",
     "output_type": "stream",
     "text": [
      "Defaulting to user installation because normal site-packages is not writeableNote: you may need to restart the kernel to use updated packages.\n",
      "\n",
      "Requirement already satisfied: pandas in c:\\programdata\\anaconda3\\lib\\site-packages (2.2.2)\n",
      "Requirement already satisfied: numpy>=1.26.0 in c:\\programdata\\anaconda3\\lib\\site-packages (from pandas) (1.26.4)\n",
      "Requirement already satisfied: python-dateutil>=2.8.2 in c:\\programdata\\anaconda3\\lib\\site-packages (from pandas) (2.9.0.post0)\n",
      "Requirement already satisfied: pytz>=2020.1 in c:\\programdata\\anaconda3\\lib\\site-packages (from pandas) (2024.1)\n",
      "Requirement already satisfied: tzdata>=2022.7 in c:\\programdata\\anaconda3\\lib\\site-packages (from pandas) (2023.3)\n",
      "Requirement already satisfied: six>=1.5 in c:\\programdata\\anaconda3\\lib\\site-packages (from python-dateutil>=2.8.2->pandas) (1.16.0)\n"
     ]
    }
   ],
   "source": [
    "%pip install pandas"
   ]
  },
  {
   "cell_type": "code",
   "execution_count": 33,
   "id": "6bc7ae4b-3a72-4ec5-8aea-3430092befa3",
   "metadata": {},
   "outputs": [],
   "source": [
    "test=pd.read_csv(\"C://Users/rajan/Downloads/NextLeap/matches.csv\")"
   ]
  },
  {
   "cell_type": "code",
   "execution_count": 35,
   "id": "1679b129-4636-4944-ae05-6253cc489897",
   "metadata": {},
   "outputs": [
    {
     "name": "stdout",
     "output_type": "stream",
     "text": [
      "<class 'pandas.core.frame.DataFrame'>\n",
      "RangeIndex: 950 entries, 0 to 949\n",
      "Data columns (total 12 columns):\n",
      " #   Column            Non-Null Count  Dtype \n",
      "---  ------            --------------  ----- \n",
      " 0   match_id          950 non-null    int64 \n",
      " 1   team              950 non-null    object\n",
      " 2   opponent_team     950 non-null    object\n",
      " 3   match_date        950 non-null    object\n",
      " 4   venue             899 non-null    object\n",
      " 5   runs_scored       950 non-null    int64 \n",
      " 6   wickets_lost      950 non-null    int64 \n",
      " 7   overs_faced       950 non-null    int64 \n",
      " 8   runs_conceded     950 non-null    int64 \n",
      " 9   wickets_taken     950 non-null    int64 \n",
      " 10  match_result      946 non-null    object\n",
      " 11  man_of_the_match  946 non-null    object\n",
      "dtypes: int64(6), object(6)\n",
      "memory usage: 89.2+ KB\n"
     ]
    }
   ],
   "source": [
    "test.info()"
   ]
  },
  {
   "cell_type": "code",
   "execution_count": 37,
   "id": "28f0f5ed-c793-471e-bd51-550cf65e2e23",
   "metadata": {},
   "outputs": [
    {
     "data": {
      "text/html": [
       "<div>\n",
       "<style scoped>\n",
       "    .dataframe tbody tr th:only-of-type {\n",
       "        vertical-align: middle;\n",
       "    }\n",
       "\n",
       "    .dataframe tbody tr th {\n",
       "        vertical-align: top;\n",
       "    }\n",
       "\n",
       "    .dataframe thead th {\n",
       "        text-align: right;\n",
       "    }\n",
       "</style>\n",
       "<table border=\"1\" class=\"dataframe\">\n",
       "  <thead>\n",
       "    <tr style=\"text-align: right;\">\n",
       "      <th></th>\n",
       "      <th>match_id</th>\n",
       "      <th>team</th>\n",
       "      <th>opponent_team</th>\n",
       "      <th>match_date</th>\n",
       "      <th>venue</th>\n",
       "      <th>runs_scored</th>\n",
       "      <th>wickets_lost</th>\n",
       "      <th>overs_faced</th>\n",
       "      <th>runs_conceded</th>\n",
       "      <th>wickets_taken</th>\n",
       "      <th>match_result</th>\n",
       "      <th>man_of_the_match</th>\n",
       "    </tr>\n",
       "  </thead>\n",
       "  <tbody>\n",
       "    <tr>\n",
       "      <th>0</th>\n",
       "      <td>1312200</td>\n",
       "      <td>Rajasthan Royals</td>\n",
       "      <td>Gujarat Titans</td>\n",
       "      <td>5/29/2022</td>\n",
       "      <td>Ahmedabad</td>\n",
       "      <td>144</td>\n",
       "      <td>9</td>\n",
       "      <td>14</td>\n",
       "      <td>147</td>\n",
       "      <td>3</td>\n",
       "      <td>Gujarat Titans</td>\n",
       "      <td>HH Pandya</td>\n",
       "    </tr>\n",
       "    <tr>\n",
       "      <th>1</th>\n",
       "      <td>1312199</td>\n",
       "      <td>Royal Challengers Bangalore</td>\n",
       "      <td>Rajasthan Royals</td>\n",
       "      <td>5/27/2022</td>\n",
       "      <td>Ahmedabad</td>\n",
       "      <td>80</td>\n",
       "      <td>2</td>\n",
       "      <td>11</td>\n",
       "      <td>81</td>\n",
       "      <td>0</td>\n",
       "      <td>Rajasthan Royals</td>\n",
       "      <td>JC Buttler</td>\n",
       "    </tr>\n",
       "    <tr>\n",
       "      <th>2</th>\n",
       "      <td>1312198</td>\n",
       "      <td>Royal Challengers Bangalore</td>\n",
       "      <td>Lucknow Super Giants</td>\n",
       "      <td>5/25/2022</td>\n",
       "      <td>Kolkata</td>\n",
       "      <td>125</td>\n",
       "      <td>9</td>\n",
       "      <td>10</td>\n",
       "      <td>69</td>\n",
       "      <td>7</td>\n",
       "      <td>Royal Challengers Bangalore</td>\n",
       "      <td>RM Patidar</td>\n",
       "    </tr>\n",
       "    <tr>\n",
       "      <th>3</th>\n",
       "      <td>1312197</td>\n",
       "      <td>Rajasthan Royals</td>\n",
       "      <td>Gujarat Titans</td>\n",
       "      <td>5/24/2022</td>\n",
       "      <td>Kolkata</td>\n",
       "      <td>129</td>\n",
       "      <td>10</td>\n",
       "      <td>19</td>\n",
       "      <td>130</td>\n",
       "      <td>3</td>\n",
       "      <td>Gujarat Titans</td>\n",
       "      <td>DA Miller</td>\n",
       "    </tr>\n",
       "    <tr>\n",
       "      <th>4</th>\n",
       "      <td>1304116</td>\n",
       "      <td>Sunrisers Hyderabad</td>\n",
       "      <td>Punjab Kings</td>\n",
       "      <td>5/22/2022</td>\n",
       "      <td>Mumbai</td>\n",
       "      <td>134</td>\n",
       "      <td>3</td>\n",
       "      <td>15</td>\n",
       "      <td>136</td>\n",
       "      <td>0</td>\n",
       "      <td>Punjab Kings</td>\n",
       "      <td>Harpreet Brar</td>\n",
       "    </tr>\n",
       "  </tbody>\n",
       "</table>\n",
       "</div>"
      ],
      "text/plain": [
       "   match_id                         team         opponent_team match_date  \\\n",
       "0   1312200             Rajasthan Royals        Gujarat Titans  5/29/2022   \n",
       "1   1312199  Royal Challengers Bangalore      Rajasthan Royals  5/27/2022   \n",
       "2   1312198  Royal Challengers Bangalore  Lucknow Super Giants  5/25/2022   \n",
       "3   1312197             Rajasthan Royals        Gujarat Titans  5/24/2022   \n",
       "4   1304116          Sunrisers Hyderabad          Punjab Kings  5/22/2022   \n",
       "\n",
       "       venue  runs_scored  wickets_lost   overs_faced  runs_conceded  \\\n",
       "0  Ahmedabad          144              9           14            147   \n",
       "1  Ahmedabad           80              2           11             81   \n",
       "2    Kolkata          125              9           10             69   \n",
       "3    Kolkata          129             10           19            130   \n",
       "4     Mumbai          134              3           15            136   \n",
       "\n",
       "   wickets_taken                 match_result man_of_the_match  \n",
       "0              3               Gujarat Titans        HH Pandya  \n",
       "1              0             Rajasthan Royals       JC Buttler  \n",
       "2              7  Royal Challengers Bangalore       RM Patidar  \n",
       "3              3               Gujarat Titans        DA Miller  \n",
       "4              0                 Punjab Kings    Harpreet Brar  "
      ]
     },
     "execution_count": 37,
     "metadata": {},
     "output_type": "execute_result"
    }
   ],
   "source": [
    "test.head(5)"
   ]
  },
  {
   "cell_type": "code",
   "execution_count": 39,
   "id": "45dbac97-bf0a-4e4f-9dc1-96161ff5e8b6",
   "metadata": {},
   "outputs": [
    {
     "data": {
      "text/plain": [
       "array(['Rajasthan Royals', 'Royal Challengers Bangalore',\n",
       "       'Sunrisers Hyderabad', 'Delhi Capitals', 'Chennai Super Kings',\n",
       "       'Gujarat Titans', 'Lucknow Super Giants', 'Kolkata Knight Riders',\n",
       "       'Punjab Kings', 'Mumbai Indians', 'Kings XI Punjab',\n",
       "       'Delhi Daredevils', 'Rising Pune Supergiant', 'Gujarat Lions',\n",
       "       'Rising Pune Supergiants', 'Pune Warriors', 'Deccan Chargers',\n",
       "       'Kochi Tuskers Kerala'], dtype=object)"
      ]
     },
     "execution_count": 39,
     "metadata": {},
     "output_type": "execute_result"
    }
   ],
   "source": [
    "test.team.unique()"
   ]
  },
  {
   "cell_type": "code",
   "execution_count": 41,
   "id": "0ae99d4f-175e-4e1f-9a87-badbe6e9bb49",
   "metadata": {},
   "outputs": [],
   "source": [
    "team_temp=test.team.unique()"
   ]
  },
  {
   "cell_type": "code",
   "execution_count": 47,
   "id": "d8aa9b24-7bb9-41ec-b4c5-88fcc28d498b",
   "metadata": {},
   "outputs": [],
   "source": [
    "team_final=pd.DataFrame(team_temp)"
   ]
  },
  {
   "cell_type": "code",
   "execution_count": 49,
   "id": "db900201-df47-4db8-8066-e71e8d808f75",
   "metadata": {},
   "outputs": [
    {
     "data": {
      "text/html": [
       "<div>\n",
       "<style scoped>\n",
       "    .dataframe tbody tr th:only-of-type {\n",
       "        vertical-align: middle;\n",
       "    }\n",
       "\n",
       "    .dataframe tbody tr th {\n",
       "        vertical-align: top;\n",
       "    }\n",
       "\n",
       "    .dataframe thead th {\n",
       "        text-align: right;\n",
       "    }\n",
       "</style>\n",
       "<table border=\"1\" class=\"dataframe\">\n",
       "  <thead>\n",
       "    <tr style=\"text-align: right;\">\n",
       "      <th></th>\n",
       "      <th>0</th>\n",
       "    </tr>\n",
       "  </thead>\n",
       "  <tbody>\n",
       "    <tr>\n",
       "      <th>0</th>\n",
       "      <td>Rajasthan Royals</td>\n",
       "    </tr>\n",
       "    <tr>\n",
       "      <th>1</th>\n",
       "      <td>Royal Challengers Bangalore</td>\n",
       "    </tr>\n",
       "    <tr>\n",
       "      <th>2</th>\n",
       "      <td>Sunrisers Hyderabad</td>\n",
       "    </tr>\n",
       "    <tr>\n",
       "      <th>3</th>\n",
       "      <td>Delhi Capitals</td>\n",
       "    </tr>\n",
       "    <tr>\n",
       "      <th>4</th>\n",
       "      <td>Chennai Super Kings</td>\n",
       "    </tr>\n",
       "  </tbody>\n",
       "</table>\n",
       "</div>"
      ],
      "text/plain": [
       "                             0\n",
       "0             Rajasthan Royals\n",
       "1  Royal Challengers Bangalore\n",
       "2          Sunrisers Hyderabad\n",
       "3               Delhi Capitals\n",
       "4          Chennai Super Kings"
      ]
     },
     "execution_count": 49,
     "metadata": {},
     "output_type": "execute_result"
    }
   ],
   "source": [
    "team_final.head(5)"
   ]
  },
  {
   "cell_type": "code",
   "execution_count": 51,
   "id": "91ad0ccf-0d9f-4536-a795-36fcfe2870c5",
   "metadata": {},
   "outputs": [
    {
     "data": {
      "text/plain": [
       "18"
      ]
     },
     "execution_count": 51,
     "metadata": {},
     "output_type": "execute_result"
    }
   ],
   "source": [
    "test.team.nunique()"
   ]
  },
  {
   "cell_type": "code",
   "execution_count": 53,
   "id": "0942583d-e30c-4832-993b-3052f675201f",
   "metadata": {},
   "outputs": [
    {
     "data": {
      "text/html": [
       "<div>\n",
       "<style scoped>\n",
       "    .dataframe tbody tr th:only-of-type {\n",
       "        vertical-align: middle;\n",
       "    }\n",
       "\n",
       "    .dataframe tbody tr th {\n",
       "        vertical-align: top;\n",
       "    }\n",
       "\n",
       "    .dataframe thead th {\n",
       "        text-align: right;\n",
       "    }\n",
       "</style>\n",
       "<table border=\"1\" class=\"dataframe\">\n",
       "  <thead>\n",
       "    <tr style=\"text-align: right;\">\n",
       "      <th></th>\n",
       "      <th>match_id</th>\n",
       "      <th>runs_scored</th>\n",
       "      <th>wickets_lost</th>\n",
       "      <th>overs_faced</th>\n",
       "      <th>runs_conceded</th>\n",
       "      <th>wickets_taken</th>\n",
       "    </tr>\n",
       "  </thead>\n",
       "  <tbody>\n",
       "    <tr>\n",
       "      <th>count</th>\n",
       "      <td>9.500000e+02</td>\n",
       "      <td>950.000000</td>\n",
       "      <td>950.000000</td>\n",
       "      <td>950.000000</td>\n",
       "      <td>950.000000</td>\n",
       "      <td>950.000000</td>\n",
       "    </tr>\n",
       "    <tr>\n",
       "      <th>mean</th>\n",
       "      <td>8.304852e+05</td>\n",
       "      <td>141.631579</td>\n",
       "      <td>5.007368</td>\n",
       "      <td>13.574737</td>\n",
       "      <td>119.601053</td>\n",
       "      <td>4.946316</td>\n",
       "    </tr>\n",
       "    <tr>\n",
       "      <th>std</th>\n",
       "      <td>3.375678e+05</td>\n",
       "      <td>43.687450</td>\n",
       "      <td>3.210059</td>\n",
       "      <td>3.904578</td>\n",
       "      <td>42.772190</td>\n",
       "      <td>3.275908</td>\n",
       "    </tr>\n",
       "    <tr>\n",
       "      <th>min</th>\n",
       "      <td>3.359820e+05</td>\n",
       "      <td>69.000000</td>\n",
       "      <td>0.000000</td>\n",
       "      <td>7.000000</td>\n",
       "      <td>66.000000</td>\n",
       "      <td>0.000000</td>\n",
       "    </tr>\n",
       "    <tr>\n",
       "      <th>25%</th>\n",
       "      <td>5.012612e+05</td>\n",
       "      <td>103.250000</td>\n",
       "      <td>2.000000</td>\n",
       "      <td>10.000000</td>\n",
       "      <td>83.250000</td>\n",
       "      <td>2.000000</td>\n",
       "    </tr>\n",
       "    <tr>\n",
       "      <th>50%</th>\n",
       "      <td>8.297380e+05</td>\n",
       "      <td>139.000000</td>\n",
       "      <td>5.000000</td>\n",
       "      <td>14.000000</td>\n",
       "      <td>107.000000</td>\n",
       "      <td>5.000000</td>\n",
       "    </tr>\n",
       "    <tr>\n",
       "      <th>75%</th>\n",
       "      <td>1.175372e+06</td>\n",
       "      <td>179.000000</td>\n",
       "      <td>8.000000</td>\n",
       "      <td>17.000000</td>\n",
       "      <td>148.000000</td>\n",
       "      <td>8.000000</td>\n",
       "    </tr>\n",
       "    <tr>\n",
       "      <th>max</th>\n",
       "      <td>1.312200e+06</td>\n",
       "      <td>218.000000</td>\n",
       "      <td>10.000000</td>\n",
       "      <td>20.000000</td>\n",
       "      <td>222.000000</td>\n",
       "      <td>10.000000</td>\n",
       "    </tr>\n",
       "  </tbody>\n",
       "</table>\n",
       "</div>"
      ],
      "text/plain": [
       "           match_id  runs_scored  wickets_lost   overs_faced  runs_conceded  \\\n",
       "count  9.500000e+02   950.000000     950.000000   950.000000     950.000000   \n",
       "mean   8.304852e+05   141.631579       5.007368    13.574737     119.601053   \n",
       "std    3.375678e+05    43.687450       3.210059     3.904578      42.772190   \n",
       "min    3.359820e+05    69.000000       0.000000     7.000000      66.000000   \n",
       "25%    5.012612e+05   103.250000       2.000000    10.000000      83.250000   \n",
       "50%    8.297380e+05   139.000000       5.000000    14.000000     107.000000   \n",
       "75%    1.175372e+06   179.000000       8.000000    17.000000     148.000000   \n",
       "max    1.312200e+06   218.000000      10.000000    20.000000     222.000000   \n",
       "\n",
       "       wickets_taken  \n",
       "count     950.000000  \n",
       "mean        4.946316  \n",
       "std         3.275908  \n",
       "min         0.000000  \n",
       "25%         2.000000  \n",
       "50%         5.000000  \n",
       "75%         8.000000  \n",
       "max        10.000000  "
      ]
     },
     "execution_count": 53,
     "metadata": {},
     "output_type": "execute_result"
    }
   ],
   "source": [
    "test.describe()"
   ]
  },
  {
   "cell_type": "code",
   "execution_count": null,
   "id": "cfbe7dc2-ee0f-4b28-b35f-0c88f2a1ee85",
   "metadata": {},
   "outputs": [],
   "source": []
  }
 ],
 "metadata": {
  "kernelspec": {
   "display_name": "Python [conda env:base] *",
   "language": "python",
   "name": "conda-base-py"
  },
  "language_info": {
   "codemirror_mode": {
    "name": "ipython",
    "version": 3
   },
   "file_extension": ".py",
   "mimetype": "text/x-python",
   "name": "python",
   "nbconvert_exporter": "python",
   "pygments_lexer": "ipython3",
   "version": "3.12.7"
  }
 },
 "nbformat": 4,
 "nbformat_minor": 5
}
