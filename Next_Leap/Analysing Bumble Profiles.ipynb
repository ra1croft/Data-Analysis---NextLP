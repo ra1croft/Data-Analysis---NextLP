{
 "cells": [
  {
   "cell_type": "code",
   "execution_count": 3,
   "metadata": {},
   "outputs": [],
   "source": [
    "import numpy as np\n",
    "import pandas as pd\n",
    "import matplotlib.pyplot as plt\n",
    "import seaborn as sns"
   ]
  },
  {
   "cell_type": "code",
   "execution_count": 4,
   "metadata": {},
   "outputs": [],
   "source": [
    "main_data = pd.read_csv(\"C:/Users/rajan/Downloads/bumble.csv\")"
   ]
  },
  {
   "cell_type": "code",
   "execution_count": 5,
   "metadata": {},
   "outputs": [
    {
     "data": {
      "text/html": [
       "<div>\n",
       "<style scoped>\n",
       "    .dataframe tbody tr th:only-of-type {\n",
       "        vertical-align: middle;\n",
       "    }\n",
       "\n",
       "    .dataframe tbody tr th {\n",
       "        vertical-align: top;\n",
       "    }\n",
       "\n",
       "    .dataframe thead th {\n",
       "        text-align: right;\n",
       "    }\n",
       "</style>\n",
       "<table border=\"1\" class=\"dataframe\">\n",
       "  <thead>\n",
       "    <tr style=\"text-align: right;\">\n",
       "      <th></th>\n",
       "      <th>age</th>\n",
       "      <th>status</th>\n",
       "      <th>gender</th>\n",
       "      <th>body_type</th>\n",
       "      <th>diet</th>\n",
       "      <th>drinks</th>\n",
       "      <th>education</th>\n",
       "      <th>ethnicity</th>\n",
       "      <th>height</th>\n",
       "      <th>income</th>\n",
       "      <th>job</th>\n",
       "      <th>last_online</th>\n",
       "      <th>location</th>\n",
       "      <th>pets</th>\n",
       "      <th>religion</th>\n",
       "      <th>sign</th>\n",
       "      <th>speaks</th>\n",
       "    </tr>\n",
       "  </thead>\n",
       "  <tbody>\n",
       "    <tr>\n",
       "      <th>0</th>\n",
       "      <td>22</td>\n",
       "      <td>single</td>\n",
       "      <td>m</td>\n",
       "      <td>a little extra</td>\n",
       "      <td>strictly anything</td>\n",
       "      <td>socially</td>\n",
       "      <td>working on college/university</td>\n",
       "      <td>asian, white</td>\n",
       "      <td>75.0</td>\n",
       "      <td>-1</td>\n",
       "      <td>transportation</td>\n",
       "      <td>2012-06-28-20-30</td>\n",
       "      <td>south san francisco, california</td>\n",
       "      <td>likes dogs and likes cats</td>\n",
       "      <td>agnosticism and very serious about it</td>\n",
       "      <td>gemini</td>\n",
       "      <td>english</td>\n",
       "    </tr>\n",
       "    <tr>\n",
       "      <th>1</th>\n",
       "      <td>35</td>\n",
       "      <td>single</td>\n",
       "      <td>m</td>\n",
       "      <td>average</td>\n",
       "      <td>mostly other</td>\n",
       "      <td>often</td>\n",
       "      <td>working on space camp</td>\n",
       "      <td>white</td>\n",
       "      <td>70.0</td>\n",
       "      <td>80000</td>\n",
       "      <td>hospitality / travel</td>\n",
       "      <td>2012-06-29-21-41</td>\n",
       "      <td>oakland, california</td>\n",
       "      <td>likes dogs and likes cats</td>\n",
       "      <td>agnosticism but not too serious about it</td>\n",
       "      <td>cancer</td>\n",
       "      <td>english (fluently), spanish (poorly), french (...</td>\n",
       "    </tr>\n",
       "    <tr>\n",
       "      <th>2</th>\n",
       "      <td>38</td>\n",
       "      <td>available</td>\n",
       "      <td>m</td>\n",
       "      <td>thin</td>\n",
       "      <td>anything</td>\n",
       "      <td>socially</td>\n",
       "      <td>graduated from masters program</td>\n",
       "      <td>NaN</td>\n",
       "      <td>68.0</td>\n",
       "      <td>-1</td>\n",
       "      <td>NaN</td>\n",
       "      <td>2012-06-27-09-10</td>\n",
       "      <td>san francisco, california</td>\n",
       "      <td>has cats</td>\n",
       "      <td>NaN</td>\n",
       "      <td>pisces but it doesn&amp;rsquo;t matter</td>\n",
       "      <td>english, french, c++</td>\n",
       "    </tr>\n",
       "    <tr>\n",
       "      <th>3</th>\n",
       "      <td>23</td>\n",
       "      <td>single</td>\n",
       "      <td>m</td>\n",
       "      <td>thin</td>\n",
       "      <td>vegetarian</td>\n",
       "      <td>socially</td>\n",
       "      <td>working on college/university</td>\n",
       "      <td>white</td>\n",
       "      <td>71.0</td>\n",
       "      <td>20000</td>\n",
       "      <td>student</td>\n",
       "      <td>2012-06-28-14-22</td>\n",
       "      <td>berkeley, california</td>\n",
       "      <td>likes cats</td>\n",
       "      <td>NaN</td>\n",
       "      <td>pisces</td>\n",
       "      <td>english, german (poorly)</td>\n",
       "    </tr>\n",
       "    <tr>\n",
       "      <th>4</th>\n",
       "      <td>29</td>\n",
       "      <td>single</td>\n",
       "      <td>m</td>\n",
       "      <td>athletic</td>\n",
       "      <td>NaN</td>\n",
       "      <td>socially</td>\n",
       "      <td>graduated from college/university</td>\n",
       "      <td>asian, black, other</td>\n",
       "      <td>66.0</td>\n",
       "      <td>-1</td>\n",
       "      <td>artistic / musical / writer</td>\n",
       "      <td>2012-06-27-21-26</td>\n",
       "      <td>san francisco, california</td>\n",
       "      <td>likes dogs and likes cats</td>\n",
       "      <td>NaN</td>\n",
       "      <td>aquarius</td>\n",
       "      <td>english</td>\n",
       "    </tr>\n",
       "  </tbody>\n",
       "</table>\n",
       "</div>"
      ],
      "text/plain": [
       "   age     status gender       body_type               diet    drinks  \\\n",
       "0   22     single      m  a little extra  strictly anything  socially   \n",
       "1   35     single      m         average       mostly other     often   \n",
       "2   38  available      m            thin           anything  socially   \n",
       "3   23     single      m            thin         vegetarian  socially   \n",
       "4   29     single      m        athletic                NaN  socially   \n",
       "\n",
       "                           education            ethnicity  height  income  \\\n",
       "0      working on college/university         asian, white    75.0      -1   \n",
       "1              working on space camp                white    70.0   80000   \n",
       "2     graduated from masters program                  NaN    68.0      -1   \n",
       "3      working on college/university                white    71.0   20000   \n",
       "4  graduated from college/university  asian, black, other    66.0      -1   \n",
       "\n",
       "                           job       last_online  \\\n",
       "0               transportation  2012-06-28-20-30   \n",
       "1         hospitality / travel  2012-06-29-21-41   \n",
       "2                          NaN  2012-06-27-09-10   \n",
       "3                      student  2012-06-28-14-22   \n",
       "4  artistic / musical / writer  2012-06-27-21-26   \n",
       "\n",
       "                          location                       pets  \\\n",
       "0  south san francisco, california  likes dogs and likes cats   \n",
       "1              oakland, california  likes dogs and likes cats   \n",
       "2        san francisco, california                   has cats   \n",
       "3             berkeley, california                 likes cats   \n",
       "4        san francisco, california  likes dogs and likes cats   \n",
       "\n",
       "                                   religion  \\\n",
       "0     agnosticism and very serious about it   \n",
       "1  agnosticism but not too serious about it   \n",
       "2                                       NaN   \n",
       "3                                       NaN   \n",
       "4                                       NaN   \n",
       "\n",
       "                                 sign  \\\n",
       "0                              gemini   \n",
       "1                              cancer   \n",
       "2  pisces but it doesn&rsquo;t matter   \n",
       "3                              pisces   \n",
       "4                            aquarius   \n",
       "\n",
       "                                              speaks  \n",
       "0                                            english  \n",
       "1  english (fluently), spanish (poorly), french (...  \n",
       "2                               english, french, c++  \n",
       "3                           english, german (poorly)  \n",
       "4                                            english  "
      ]
     },
     "execution_count": 5,
     "metadata": {},
     "output_type": "execute_result"
    }
   ],
   "source": [
    "main_data.head()"
   ]
  },
  {
   "cell_type": "code",
   "execution_count": 4,
   "metadata": {},
   "outputs": [
    {
     "name": "stdout",
     "output_type": "stream",
     "text": [
      "<class 'pandas.core.frame.DataFrame'>\n",
      "RangeIndex: 59946 entries, 0 to 59945\n",
      "Data columns (total 17 columns):\n",
      " #   Column       Non-Null Count  Dtype  \n",
      "---  ------       --------------  -----  \n",
      " 0   age          59946 non-null  int64  \n",
      " 1   status       59946 non-null  object \n",
      " 2   gender       59946 non-null  object \n",
      " 3   body_type    54650 non-null  object \n",
      " 4   diet         35551 non-null  object \n",
      " 5   drinks       56961 non-null  object \n",
      " 6   education    53318 non-null  object \n",
      " 7   ethnicity    54266 non-null  object \n",
      " 8   height       59943 non-null  float64\n",
      " 9   income       59946 non-null  int64  \n",
      " 10  job          51748 non-null  object \n",
      " 11  last_online  59946 non-null  object \n",
      " 12  location     59946 non-null  object \n",
      " 13  pets         40025 non-null  object \n",
      " 14  religion     39720 non-null  object \n",
      " 15  sign         48890 non-null  object \n",
      " 16  speaks       59896 non-null  object \n",
      "dtypes: float64(1), int64(2), object(14)\n",
      "memory usage: 7.8+ MB\n"
     ]
    }
   ],
   "source": [
    "main_data.info()"
   ]
  },
  {
   "cell_type": "markdown",
   "metadata": {},
   "source": [
    "Questions:\n",
    "1. Which columns in the dataset have missing values, and what percentage of data is missing in each column?\n",
    "\n",
    "2. Are there columns where more than 50% of the data is missing? Drop those columns where missing values are >50%.\n",
    "\n",
    "3. Missing numerical data (e.g., height, income) should be handled by imputing the median value of height and income for the corresponding category, such as gender, age group, or location. This ensures that the imputed values are contextually relevant and reduce potential biases in the analysis."
   ]
  },
  {
   "cell_type": "code",
   "execution_count": 11,
   "metadata": {},
   "outputs": [
    {
     "name": "stdout",
     "output_type": "stream",
     "text": [
      "           Missing Value  Percentage\n",
      "diet               24395   40.694959\n",
      "religion           20226   33.740366\n",
      "pets               19921   33.231575\n",
      "sign               11056   18.443266\n",
      "job                 8198   13.675641\n",
      "education           6628   11.056618\n",
      "ethnicity           5680    9.475194\n",
      "body_type           5296    8.834618\n",
      "drinks              2985    4.979482\n",
      "speaks                50    0.083408\n",
      "height                 3    0.005005\n"
     ]
    }
   ],
   "source": [
    "misssing_value = main_data.isnull().sum().sort_values(ascending=False)\n",
    "missing_Percent = (misssing_value/len(main_data))*100\n",
    "missing_df = pd.DataFrame({'Missing Value': misssing_value,'Percentage': missing_Percent})\n",
    "missing_df = missing_df[missing_df['Missing Value']>0]\n",
    "print(missing_df)"
   ]
  },
  {
   "cell_type": "code",
   "execution_count": 12,
   "metadata": {},
   "outputs": [],
   "source": [
    "#As per the requirement there is no column where more than 50% of the data is missing"
   ]
  },
  {
   "cell_type": "code",
   "execution_count": 21,
   "metadata": {},
   "outputs": [
    {
     "data": {
      "text/plain": [
       "diet           24395\n",
       "religion       20226\n",
       "pets           19921\n",
       "sign           11056\n",
       "job             8198\n",
       "education       6628\n",
       "ethnicity       5680\n",
       "body_type       5296\n",
       "drinks          2985\n",
       "speaks            50\n",
       "location           0\n",
       "age                0\n",
       "last_online        0\n",
       "income             0\n",
       "status             0\n",
       "gender             0\n",
       "height             0\n",
       "dtype: int64"
      ]
     },
     "execution_count": 21,
     "metadata": {},
     "output_type": "execute_result"
    }
   ],
   "source": [
    "#replaicing missing height data by the median of height\n",
    "main_data['height'].fillna(main_data['height'].median(),inplace=True)\n",
    "misssing_value = main_data.isnull().sum().sort_values(ascending=False)\n",
    "misssing_value"
   ]
  },
  {
   "cell_type": "markdown",
   "metadata": {},
   "source": [
    "Questions:\n",
    "1. Are there any inconsistencies in the data types across columns (e.g., numerical data stored as strings)?\n",
    "\n",
    "2. Which columns require conversion to numerical data types for proper analysis (e.g., income)?\n",
    "\n",
    "3. Does the last_online column need to be converted into a datetime format? What additional insights can be gained by analyzing this as a date field?"
   ]
  },
  {
   "cell_type": "code",
   "execution_count": 22,
   "metadata": {},
   "outputs": [
    {
     "name": "stdout",
     "output_type": "stream",
     "text": [
      "<class 'pandas.core.frame.DataFrame'>\n",
      "RangeIndex: 59946 entries, 0 to 59945\n",
      "Data columns (total 17 columns):\n",
      " #   Column       Non-Null Count  Dtype  \n",
      "---  ------       --------------  -----  \n",
      " 0   age          59946 non-null  int64  \n",
      " 1   status       59946 non-null  object \n",
      " 2   gender       59946 non-null  object \n",
      " 3   body_type    54650 non-null  object \n",
      " 4   diet         35551 non-null  object \n",
      " 5   drinks       56961 non-null  object \n",
      " 6   education    53318 non-null  object \n",
      " 7   ethnicity    54266 non-null  object \n",
      " 8   height       59946 non-null  float64\n",
      " 9   income       59946 non-null  int64  \n",
      " 10  job          51748 non-null  object \n",
      " 11  last_online  59946 non-null  object \n",
      " 12  location     59946 non-null  object \n",
      " 13  pets         40025 non-null  object \n",
      " 14  religion     39720 non-null  object \n",
      " 15  sign         48890 non-null  object \n",
      " 16  speaks       59896 non-null  object \n",
      "dtypes: float64(1), int64(2), object(14)\n",
      "memory usage: 7.8+ MB\n"
     ]
    }
   ],
   "source": [
    "main_data.info()"
   ]
  },
  {
   "cell_type": "code",
   "execution_count": 46,
   "metadata": {},
   "outputs": [
    {
     "name": "stdout",
     "output_type": "stream",
     "text": [
      "datetime64[ns]\n",
      "0                   NaT\n",
      "1                   NaT\n",
      "2   2012-06-27 09:00:00\n",
      "3   2012-06-28 14:00:00\n",
      "4                   NaT\n",
      "Name: last_online, dtype: datetime64[ns]\n"
     ]
    }
   ],
   "source": [
    "# Ans1 : yes there is inconsenties in data type such as last_online\n",
    "# Ans 2: No columns requires conversion to numerical data types\n",
    "# Replace '-' with ':' in time part if needed\n",
    "\n",
    "# Ensure all values are strings\n",
    "main_data['last_online'] = main_data['last_online'].astype(str)\n",
    "\n",
    "# Remove timezone offsets (e.g., \"-10:00\", \"+05:30\")\n",
    "main_data['last_online'] = main_data['last_online'].str.replace(r'([-+]\\d{2}:\\d{2})$', '', regex=True)\n",
    "\n",
    "# Convert to datetime\n",
    "main_data['last_online'] = pd.to_datetime(main_data['last_online'], errors='coerce')\n",
    "\n",
    "# Verify the conversion\n",
    "print(main_data.dtypes['last_online'])  # Should now be datetime64[ns]\n",
    "print(main_data['last_online'].head())  # Check values\n",
    "\n"
   ]
  },
  {
   "cell_type": "code",
   "execution_count": 47,
   "metadata": {},
   "outputs": [
    {
     "name": "stdout",
     "output_type": "stream",
     "text": [
      "<class 'pandas.core.frame.DataFrame'>\n",
      "RangeIndex: 59946 entries, 0 to 59945\n",
      "Data columns (total 17 columns):\n",
      " #   Column       Non-Null Count  Dtype         \n",
      "---  ------       --------------  -----         \n",
      " 0   age          59946 non-null  int64         \n",
      " 1   status       59946 non-null  object        \n",
      " 2   gender       59946 non-null  object        \n",
      " 3   body_type    54650 non-null  object        \n",
      " 4   diet         35551 non-null  object        \n",
      " 5   drinks       56961 non-null  object        \n",
      " 6   education    53318 non-null  object        \n",
      " 7   ethnicity    54266 non-null  object        \n",
      " 8   height       59946 non-null  float64       \n",
      " 9   income       59946 non-null  int64         \n",
      " 10  job          51748 non-null  object        \n",
      " 11  last_online  24051 non-null  datetime64[ns]\n",
      " 12  location     59946 non-null  object        \n",
      " 13  pets         40025 non-null  object        \n",
      " 14  religion     39720 non-null  object        \n",
      " 15  sign         48890 non-null  object        \n",
      " 16  speaks       59896 non-null  object        \n",
      "dtypes: datetime64[ns](1), float64(1), int64(2), object(13)\n",
      "memory usage: 7.8+ MB\n"
     ]
    }
   ],
   "source": [
    "main_data.info()"
   ]
  },
  {
   "cell_type": "markdown",
   "metadata": {},
   "source": [
    "Questions:\n",
    "1. Are there any apparent outliers in numerical columns such as age, height, or income? What are the ranges of values in these columns?\n",
    "\n",
    "2. Any -1 values in numerical columns like income should be replaced with 0, as they may represent missing or invalid data.\n",
    "\n",
    "3. For other outliers, rather than deleting them, calculate the mean and median values using only the middle 80% of the data (removing extreme high and low values). This approach ensures that outliers do not disproportionately impact the analysis while retaining as much meaningful data as possible."
   ]
  },
  {
   "cell_type": "code",
   "execution_count": 48,
   "metadata": {},
   "outputs": [
    {
     "name": "stdout",
     "output_type": "stream",
     "text": [
      "                age        height          income\n",
      "count  59946.000000  59946.000000    59946.000000\n",
      "mean      32.340290     68.295266    20033.222534\n",
      "std        9.452779      3.994704    97346.192104\n",
      "min       18.000000      1.000000       -1.000000\n",
      "25%       26.000000     66.000000       -1.000000\n",
      "50%       30.000000     68.000000       -1.000000\n",
      "75%       37.000000     71.000000       -1.000000\n",
      "max      110.000000     95.000000  1000000.000000\n"
     ]
    }
   ],
   "source": [
    "# Summary statistics for numerical columns\n",
    "print(main_data[['age', 'height', 'income']].describe())\n"
   ]
  },
  {
   "cell_type": "code",
   "execution_count": 58,
   "metadata": {},
   "outputs": [
    {
     "name": "stdout",
     "output_type": "stream",
     "text": [
      "age        2638\n",
      "height      285\n",
      "income    11504\n",
      "dtype: int64\n"
     ]
    }
   ],
   "source": [
    "#calculate outlier for each numerical columns\n",
    "Q1 = main_data[['age','height','income']].quantile(0.25)\n",
    "Q3 = main_data[['age','height','income']].quantile(0.75)\n",
    "IQR = Q3 - Q1\n",
    "\n",
    "#identify outliers\n",
    "outliers = (main_data[['age','height','income']] < (Q1 - 1.5 * IQR)) | (main_data[['age','height','income']] > (Q3 + 1.5 * IQR))\n",
    "outlier_count = outliers.sum()\n",
    "print(outlier_count)"
   ]
  },
  {
   "cell_type": "code",
   "execution_count": 59,
   "metadata": {},
   "outputs": [
    {
     "data": {
      "image/png": "[encoded data removed]",
      "text/plain": [
       "<Figure size 1500x500 with 1 Axes>"
      ]
     },
     "metadata": {},
     "output_type": "display_data"
    }
   ],
   "source": [
    "# Plot boxplots for numerical columns to chk the outliers\n",
    "plt.figure(figsize=(15, 5))\n",
    "sns.boxplot(data=main_data[['age', 'height']])\n",
    "plt.title('Boxplots for Age, Height, and Income')\n",
    "plt.show()\n"
   ]
  },
  {
   "cell_type": "code",
   "execution_count": 61,
   "metadata": {},
   "outputs": [
    {
     "name": "stdout",
     "output_type": "stream",
     "text": [
      "0        0\n",
      "1    80000\n",
      "2        0\n",
      "3    20000\n",
      "4        0\n",
      "Name: income, dtype: int64\n"
     ]
    }
   ],
   "source": [
    "main_data['income'] = main_data['income'].replace(-1,0)\n",
    "print(main_data['income'].head())"
   ]
  },
  {
   "cell_type": "code",
   "execution_count": 62,
   "metadata": {},
   "outputs": [
    {
     "name": "stdout",
     "output_type": "stream",
     "text": [
      "                age        height          income\n",
      "count  59946.000000  59946.000000    59946.000000\n",
      "mean      32.340290     68.295266    20034.030628\n",
      "std        9.452779      3.994704    97346.025793\n",
      "min       18.000000      1.000000        0.000000\n",
      "25%       26.000000     66.000000        0.000000\n",
      "50%       30.000000     68.000000        0.000000\n",
      "75%       37.000000     71.000000        0.000000\n",
      "max      110.000000     95.000000  1000000.000000\n"
     ]
    }
   ],
   "source": [
    "print(main_data[['age', 'height', 'income']].describe())"
   ]
  },
  {
   "cell_type": "code",
   "execution_count": 63,
   "metadata": {},
   "outputs": [
    {
     "name": "stdout",
     "output_type": "stream",
     "text": [
      "Age: Mean = 31.085972850678733, Median = 30.0\n",
      "Height: Mean = 68.32771024042371, Median = 68.0\n",
      "Income: Mean = 3250.411827261922, Median = 0.0\n"
     ]
    }
   ],
   "source": [
    "# Function to calculate mean and median after trimming extremes (middle 80%)\n",
    "def calculate_trimmed_mean_median(data, column):\n",
    "    # Sort the data for the given column\n",
    "    sorted_data = data[column].sort_values()\n",
    "    \n",
    "    # Remove the bottom 10% and top 10% values (middle 80%)\n",
    "    trimmed_data = sorted_data[int(len(sorted_data) * 0.1):int(len(sorted_data) * 0.9)]\n",
    "    \n",
    "    # Calculate mean and median on the trimmed data\n",
    "    trimmed_mean = trimmed_data.mean()\n",
    "    trimmed_median = trimmed_data.median()\n",
    "    \n",
    "    return trimmed_mean, trimmed_median\n",
    "\n",
    "# Apply this function to each column: age, height, income\n",
    "age_mean, age_median = calculate_trimmed_mean_median(main_data, 'age')\n",
    "height_mean, height_median = calculate_trimmed_mean_median(main_data, 'height')\n",
    "income_mean, income_median = calculate_trimmed_mean_median(main_data, 'income')\n",
    "\n",
    "# Print the results\n",
    "print(f\"Age: Mean = {age_mean}, Median = {age_median}\")\n",
    "print(f\"Height: Mean = {height_mean}, Median = {height_median}\")\n",
    "print(f\"Income: Mean = {income_mean}, Median = {income_median}\")\n"
   ]
  },
  {
   "cell_type": "markdown",
   "metadata": {},
   "source": [
    "Create a heatmap to visualize missing values across the dataset. Which columns show consistent missing data patterns?"
   ]
  },
  {
   "cell_type": "code",
   "execution_count": null,
   "metadata": {},
   "outputs": [],
   "source": [
    "# Generate a boolean mask where True represents missing values\n",
    "missing_data = main_data.isnull()\n",
    "\n",
    "# Create a heatmap to visualize missing values\n",
    "plt.figure(figsize=(8, 6))  # Set the figure size\n",
    "sns.heatmap(missing_data, cbar=False, cmap='viridis', yticklabels=False, xticklabels=True)\n",
    "\n",
    "# Add title\n",
    "plt.title('Missing Values Heatmap')\n",
    "\n",
    "# Show the plot\n",
    "plt.show()"
   ]
  },
  {
   "cell_type": "code",
   "execution_count": null,
   "metadata": {},
   "outputs": [],
   "source": []
  }
 ],
 "metadata": {
  "kernelspec": {
   "display_name": "base",
   "language": "python",
   "name": "python3"
  },
  "language_info": {
   "codemirror_mode": {
    "name": "ipython",
    "version": 3
   },
   "file_extension": ".py",
   "mimetype": "text/x-python",
   "name": "python",
   "nbconvert_exporter": "python",
   "pygments_lexer": "ipython3",
   "version": "3.12.7"
  }
 },
 "nbformat": 4,
 "nbformat_minor": 2
}
