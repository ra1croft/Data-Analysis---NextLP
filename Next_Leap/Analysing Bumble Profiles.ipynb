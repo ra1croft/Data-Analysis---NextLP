{
 "cells": [
  {
   "cell_type": "code",
   "execution_count": 2,
   "metadata": {},
   "outputs": [],
   "source": [
    "import numpy as np\n",
    "import pandas as pd\n",
    "import matplotlib.pyplot as plt\n",
    "import seaborn as sns"
   ]
  },
  {
   "cell_type": "code",
   "execution_count": 3,
   "metadata": {},
   "outputs": [],
   "source": [
    "main_data = pd.read_csv(\"C:/Users/rajan/Downloads/bumble.csv\")"
   ]
  },
  {
   "cell_type": "code",
   "execution_count": 4,
   "metadata": {},
   "outputs": [
    {
     "data": {
      "text/html": [
       "<div>\n",
       "<style scoped>\n",
       "    .dataframe tbody tr th:only-of-type {\n",
       "        vertical-align: middle;\n",
       "    }\n",
       "\n",
       "    .dataframe tbody tr th {\n",
       "        vertical-align: top;\n",
       "    }\n",
       "\n",
       "    .dataframe thead th {\n",
       "        text-align: right;\n",
       "    }\n",
       "</style>\n",
       "<table border=\"1\" class=\"dataframe\">\n",
       "  <thead>\n",
       "    <tr style=\"text-align: right;\">\n",
       "      <th></th>\n",
       "      <th>age</th>\n",
       "      <th>status</th>\n",
       "      <th>gender</th>\n",
       "      <th>body_type</th>\n",
       "      <th>diet</th>\n",
       "      <th>drinks</th>\n",
       "      <th>education</th>\n",
       "      <th>ethnicity</th>\n",
       "      <th>height</th>\n",
       "      <th>income</th>\n",
       "      <th>job</th>\n",
       "      <th>last_online</th>\n",
       "      <th>location</th>\n",
       "      <th>pets</th>\n",
       "      <th>religion</th>\n",
       "      <th>sign</th>\n",
       "      <th>speaks</th>\n",
       "    </tr>\n",
       "  </thead>\n",
       "  <tbody>\n",
       "    <tr>\n",
       "      <th>0</th>\n",
       "      <td>22</td>\n",
       "      <td>single</td>\n",
       "      <td>m</td>\n",
       "      <td>a little extra</td>\n",
       "      <td>strictly anything</td>\n",
       "      <td>socially</td>\n",
       "      <td>working on college/university</td>\n",
       "      <td>asian, white</td>\n",
       "      <td>75.0</td>\n",
       "      <td>-1</td>\n",
       "      <td>transportation</td>\n",
       "      <td>2012-06-28-20-30</td>\n",
       "      <td>south san francisco, california</td>\n",
       "      <td>likes dogs and likes cats</td>\n",
       "      <td>agnosticism and very serious about it</td>\n",
       "      <td>gemini</td>\n",
       "      <td>english</td>\n",
       "    </tr>\n",
       "    <tr>\n",
       "      <th>1</th>\n",
       "      <td>35</td>\n",
       "      <td>single</td>\n",
       "      <td>m</td>\n",
       "      <td>average</td>\n",
       "      <td>mostly other</td>\n",
       "      <td>often</td>\n",
       "      <td>working on space camp</td>\n",
       "      <td>white</td>\n",
       "      <td>70.0</td>\n",
       "      <td>80000</td>\n",
       "      <td>hospitality / travel</td>\n",
       "      <td>2012-06-29-21-41</td>\n",
       "      <td>oakland, california</td>\n",
       "      <td>likes dogs and likes cats</td>\n",
       "      <td>agnosticism but not too serious about it</td>\n",
       "      <td>cancer</td>\n",
       "      <td>english (fluently), spanish (poorly), french (...</td>\n",
       "    </tr>\n",
       "    <tr>\n",
       "      <th>2</th>\n",
       "      <td>38</td>\n",
       "      <td>available</td>\n",
       "      <td>m</td>\n",
       "      <td>thin</td>\n",
       "      <td>anything</td>\n",
       "      <td>socially</td>\n",
       "      <td>graduated from masters program</td>\n",
       "      <td>NaN</td>\n",
       "      <td>68.0</td>\n",
       "      <td>-1</td>\n",
       "      <td>NaN</td>\n",
       "      <td>2012-06-27-09-10</td>\n",
       "      <td>san francisco, california</td>\n",
       "      <td>has cats</td>\n",
       "      <td>NaN</td>\n",
       "      <td>pisces but it doesn&amp;rsquo;t matter</td>\n",
       "      <td>english, french, c++</td>\n",
       "    </tr>\n",
       "    <tr>\n",
       "      <th>3</th>\n",
       "      <td>23</td>\n",
       "      <td>single</td>\n",
       "      <td>m</td>\n",
       "      <td>thin</td>\n",
       "      <td>vegetarian</td>\n",
       "      <td>socially</td>\n",
       "      <td>working on college/university</td>\n",
       "      <td>white</td>\n",
       "      <td>71.0</td>\n",
       "      <td>20000</td>\n",
       "      <td>student</td>\n",
       "      <td>2012-06-28-14-22</td>\n",
       "      <td>berkeley, california</td>\n",
       "      <td>likes cats</td>\n",
       "      <td>NaN</td>\n",
       "      <td>pisces</td>\n",
       "      <td>english, german (poorly)</td>\n",
       "    </tr>\n",
       "    <tr>\n",
       "      <th>4</th>\n",
       "      <td>29</td>\n",
       "      <td>single</td>\n",
       "      <td>m</td>\n",
       "      <td>athletic</td>\n",
       "      <td>NaN</td>\n",
       "      <td>socially</td>\n",
       "      <td>graduated from college/university</td>\n",
       "      <td>asian, black, other</td>\n",
       "      <td>66.0</td>\n",
       "      <td>-1</td>\n",
       "      <td>artistic / musical / writer</td>\n",
       "      <td>2012-06-27-21-26</td>\n",
       "      <td>san francisco, california</td>\n",
       "      <td>likes dogs and likes cats</td>\n",
       "      <td>NaN</td>\n",
       "      <td>aquarius</td>\n",
       "      <td>english</td>\n",
       "    </tr>\n",
       "  </tbody>\n",
       "</table>\n",
       "</div>"
      ],
      "text/plain": [
       "   age     status gender       body_type               diet    drinks  \\\n",
       "0   22     single      m  a little extra  strictly anything  socially   \n",
       "1   35     single      m         average       mostly other     often   \n",
       "2   38  available      m            thin           anything  socially   \n",
       "3   23     single      m            thin         vegetarian  socially   \n",
       "4   29     single      m        athletic                NaN  socially   \n",
       "\n",
       "                           education            ethnicity  height  income  \\\n",
       "0      working on college/university         asian, white    75.0      -1   \n",
       "1              working on space camp                white    70.0   80000   \n",
       "2     graduated from masters program                  NaN    68.0      -1   \n",
       "3      working on college/university                white    71.0   20000   \n",
       "4  graduated from college/university  asian, black, other    66.0      -1   \n",
       "\n",
       "                           job       last_online  \\\n",
       "0               transportation  2012-06-28-20-30   \n",
       "1         hospitality / travel  2012-06-29-21-41   \n",
       "2                          NaN  2012-06-27-09-10   \n",
       "3                      student  2012-06-28-14-22   \n",
       "4  artistic / musical / writer  2012-06-27-21-26   \n",
       "\n",
       "                          location                       pets  \\\n",
       "0  south san francisco, california  likes dogs and likes cats   \n",
       "1              oakland, california  likes dogs and likes cats   \n",
       "2        san francisco, california                   has cats   \n",
       "3             berkeley, california                 likes cats   \n",
       "4        san francisco, california  likes dogs and likes cats   \n",
       "\n",
       "                                   religion  \\\n",
       "0     agnosticism and very serious about it   \n",
       "1  agnosticism but not too serious about it   \n",
       "2                                       NaN   \n",
       "3                                       NaN   \n",
       "4                                       NaN   \n",
       "\n",
       "                                 sign  \\\n",
       "0                              gemini   \n",
       "1                              cancer   \n",
       "2  pisces but it doesn&rsquo;t matter   \n",
       "3                              pisces   \n",
       "4                            aquarius   \n",
       "\n",
       "                                              speaks  \n",
       "0                                            english  \n",
       "1  english (fluently), spanish (poorly), french (...  \n",
       "2                               english, french, c++  \n",
       "3                           english, german (poorly)  \n",
       "4                                            english  "
      ]
     },
     "execution_count": 4,
     "metadata": {},
     "output_type": "execute_result"
    }
   ],
   "source": [
    "main_data.head()"
   ]
  },
  {
   "cell_type": "code",
   "execution_count": 5,
   "metadata": {},
   "outputs": [
    {
     "name": "stdout",
     "output_type": "stream",
     "text": [
      "<class 'pandas.core.frame.DataFrame'>\n",
      "RangeIndex: 59946 entries, 0 to 59945\n",
      "Data columns (total 17 columns):\n",
      " #   Column       Non-Null Count  Dtype  \n",
      "---  ------       --------------  -----  \n",
      " 0   age          59946 non-null  int64  \n",
      " 1   status       59946 non-null  object \n",
      " 2   gender       59946 non-null  object \n",
      " 3   body_type    54650 non-null  object \n",
      " 4   diet         35551 non-null  object \n",
      " 5   drinks       56961 non-null  object \n",
      " 6   education    53318 non-null  object \n",
      " 7   ethnicity    54266 non-null  object \n",
      " 8   height       59943 non-null  float64\n",
      " 9   income       59946 non-null  int64  \n",
      " 10  job          51748 non-null  object \n",
      " 11  last_online  59946 non-null  object \n",
      " 12  location     59946 non-null  object \n",
      " 13  pets         40025 non-null  object \n",
      " 14  religion     39720 non-null  object \n",
      " 15  sign         48890 non-null  object \n",
      " 16  speaks       59896 non-null  object \n",
      "dtypes: float64(1), int64(2), object(14)\n",
      "memory usage: 7.8+ MB\n"
     ]
    }
   ],
   "source": [
    "main_data.info()"
   ]
  },
  {
   "cell_type": "markdown",
   "metadata": {},
   "source": [
    "Questions:\n",
    "1. Which columns in the dataset have missing values, and what percentage of data is missing in each column?\n",
    "\n",
    "2. Are there columns where more than 50% of the data is missing? Drop those columns where missing values are >50%.\n",
    "\n",
    "3. Missing numerical data (e.g., height, income) should be handled by imputing the median value of height and income for the corresponding category, such as gender, age group, or location. This ensures that the imputed values are contextually relevant and reduce potential biases in the analysis."
   ]
  },
  {
   "cell_type": "code",
   "execution_count": 6,
   "metadata": {},
   "outputs": [
    {
     "name": "stdout",
     "output_type": "stream",
     "text": [
      "           Missing Value  Percentage\n",
      "diet               24395   40.694959\n",
      "religion           20226   33.740366\n",
      "pets               19921   33.231575\n",
      "sign               11056   18.443266\n",
      "job                 8198   13.675641\n",
      "education           6628   11.056618\n",
      "ethnicity           5680    9.475194\n",
      "body_type           5296    8.834618\n",
      "drinks              2985    4.979482\n",
      "speaks                50    0.083408\n",
      "height                 3    0.005005\n"
     ]
    }
   ],
   "source": [
    "misssing_value = main_data.isnull().sum().sort_values(ascending=False)\n",
    "missing_Percent = (misssing_value/len(main_data))*100\n",
    "missing_df = pd.DataFrame({'Missing Value': misssing_value,'Percentage': missing_Percent})\n",
    "missing_df = missing_df[missing_df['Missing Value']>0]\n",
    "print(missing_df)"
   ]
  },
  {
   "cell_type": "code",
   "execution_count": 7,
   "metadata": {},
   "outputs": [],
   "source": [
    "#As per the requirement there is no column where more than 50% of the data is missing"
   ]
  },
  {
   "cell_type": "code",
   "execution_count": 8,
   "metadata": {},
   "outputs": [
    {
     "name": "stderr",
     "output_type": "stream",
     "text": [
      "C:\\Users\\rajan\\AppData\\Local\\Temp\\ipykernel_18888\\2759364050.py:2: FutureWarning: A value is trying to be set on a copy of a DataFrame or Series through chained assignment using an inplace method.\n",
      "The behavior will change in pandas 3.0. This inplace method will never work because the intermediate object on which we are setting values always behaves as a copy.\n",
      "\n",
      "For example, when doing 'df[col].method(value, inplace=True)', try using 'df.method({col: value}, inplace=True)' or df[col] = df[col].method(value) instead, to perform the operation inplace on the original object.\n",
      "\n",
      "\n",
      "  main_data['height'].fillna(main_data['height'].median(),inplace=True)\n"
     ]
    },
    {
     "data": {
      "text/plain": [
       "diet           24395\n",
       "religion       20226\n",
       "pets           19921\n",
       "sign           11056\n",
       "job             8198\n",
       "education       6628\n",
       "ethnicity       5680\n",
       "body_type       5296\n",
       "drinks          2985\n",
       "speaks            50\n",
       "location           0\n",
       "age                0\n",
       "last_online        0\n",
       "income             0\n",
       "status             0\n",
       "gender             0\n",
       "height             0\n",
       "dtype: int64"
      ]
     },
     "execution_count": 8,
     "metadata": {},
     "output_type": "execute_result"
    }
   ],
   "source": [
    "#replaicing missing height data by the median of height\n",
    "main_data['height'].fillna(main_data['height'].median(),inplace=True)\n",
    "misssing_value = main_data.isnull().sum().sort_values(ascending=False)\n",
    "misssing_value"
   ]
  },
  {
   "cell_type": "markdown",
   "metadata": {},
   "source": [
    "Questions:\n",
    "1. Are there any inconsistencies in the data types across columns (e.g., numerical data stored as strings)?\n",
    "\n",
    "2. Which columns require conversion to numerical data types for proper analysis (e.g., income)?\n",
    "\n",
    "3. Does the last_online column need to be converted into a datetime format? What additional insights can be gained by analyzing this as a date field?"
   ]
  },
  {
   "cell_type": "code",
   "execution_count": 9,
   "metadata": {},
   "outputs": [
    {
     "name": "stdout",
     "output_type": "stream",
     "text": [
      "<class 'pandas.core.frame.DataFrame'>\n",
      "RangeIndex: 59946 entries, 0 to 59945\n",
      "Data columns (total 17 columns):\n",
      " #   Column       Non-Null Count  Dtype  \n",
      "---  ------       --------------  -----  \n",
      " 0   age          59946 non-null  int64  \n",
      " 1   status       59946 non-null  object \n",
      " 2   gender       59946 non-null  object \n",
      " 3   body_type    54650 non-null  object \n",
      " 4   diet         35551 non-null  object \n",
      " 5   drinks       56961 non-null  object \n",
      " 6   education    53318 non-null  object \n",
      " 7   ethnicity    54266 non-null  object \n",
      " 8   height       59946 non-null  float64\n",
      " 9   income       59946 non-null  int64  \n",
      " 10  job          51748 non-null  object \n",
      " 11  last_online  59946 non-null  object \n",
      " 12  location     59946 non-null  object \n",
      " 13  pets         40025 non-null  object \n",
      " 14  religion     39720 non-null  object \n",
      " 15  sign         48890 non-null  object \n",
      " 16  speaks       59896 non-null  object \n",
      "dtypes: float64(1), int64(2), object(14)\n",
      "memory usage: 7.8+ MB\n"
     ]
    }
   ],
   "source": [
    "main_data.info()"
   ]
  },
  {
   "cell_type": "code",
   "execution_count": 10,
   "metadata": {},
   "outputs": [
    {
     "name": "stderr",
     "output_type": "stream",
     "text": [
      "C:\\Users\\rajan\\AppData\\Local\\Temp\\ipykernel_18888\\3378612434.py:12: UserWarning: Could not infer format, so each element will be parsed individually, falling back to `dateutil`. To ensure parsing is consistent and as-expected, please specify a format.\n",
      "  main_data['last_online'] = pd.to_datetime(main_data['last_online'], errors='coerce')\n"
     ]
    },
    {
     "name": "stdout",
     "output_type": "stream",
     "text": [
      "object\n",
      "0                          NaT\n",
      "1                          NaT\n",
      "2    2012-06-27 09:00:00-10:00\n",
      "3    2012-06-28 14:00:00-22:00\n",
      "4                          NaT\n",
      "Name: last_online, dtype: object\n"
     ]
    },
    {
     "name": "stderr",
     "output_type": "stream",
     "text": [
      "C:\\Users\\rajan\\AppData\\Local\\Temp\\ipykernel_18888\\3378612434.py:12: FutureWarning: In a future version of pandas, parsing datetimes with mixed time zones will raise an error unless `utc=True`. Please specify `utc=True` to opt in to the new behaviour and silence this warning. To create a `Series` with mixed offsets and `object` dtype, please use `apply` and `datetime.datetime.strptime`\n",
      "  main_data['last_online'] = pd.to_datetime(main_data['last_online'], errors='coerce')\n"
     ]
    }
   ],
   "source": [
    "# Ans1 : yes there is inconsenties in data type such as last_online\n",
    "# Ans 2: No columns requires conversion to numerical data types\n",
    "# Replace '-' with ':' in time part if needed\n",
    "\n",
    "# Ensure all values are strings\n",
    "main_data['last_online'] = main_data['last_online'].astype(str)\n",
    "\n",
    "# Remove timezone offsets (e.g., \"-10:00\", \"+05:30\")\n",
    "main_data['last_online'] = main_data['last_online'].str.replace(r'([-+]\\d{2}:\\d{2})$', '', regex=True)\n",
    "\n",
    "# Convert to datetime\n",
    "main_data['last_online'] = pd.to_datetime(main_data['last_online'], errors='coerce')\n",
    "\n",
    "# Verify the conversion\n",
    "print(main_data.dtypes['last_online'])  # Should now be datetime64[ns]\n",
    "print(main_data['last_online'].head())  # Check values\n",
    "\n"
   ]
  },
  {
   "cell_type": "code",
   "execution_count": 11,
   "metadata": {},
   "outputs": [
    {
     "name": "stdout",
     "output_type": "stream",
     "text": [
      "<class 'pandas.core.frame.DataFrame'>\n",
      "RangeIndex: 59946 entries, 0 to 59945\n",
      "Data columns (total 17 columns):\n",
      " #   Column       Non-Null Count  Dtype  \n",
      "---  ------       --------------  -----  \n",
      " 0   age          59946 non-null  int64  \n",
      " 1   status       59946 non-null  object \n",
      " 2   gender       59946 non-null  object \n",
      " 3   body_type    54650 non-null  object \n",
      " 4   diet         35551 non-null  object \n",
      " 5   drinks       56961 non-null  object \n",
      " 6   education    53318 non-null  object \n",
      " 7   ethnicity    54266 non-null  object \n",
      " 8   height       59946 non-null  float64\n",
      " 9   income       59946 non-null  int64  \n",
      " 10  job          51748 non-null  object \n",
      " 11  last_online  24051 non-null  object \n",
      " 12  location     59946 non-null  object \n",
      " 13  pets         40025 non-null  object \n",
      " 14  religion     39720 non-null  object \n",
      " 15  sign         48890 non-null  object \n",
      " 16  speaks       59896 non-null  object \n",
      "dtypes: float64(1), int64(2), object(14)\n",
      "memory usage: 7.8+ MB\n"
     ]
    }
   ],
   "source": [
    "main_data.info()"
   ]
  },
  {
   "cell_type": "markdown",
   "metadata": {},
   "source": [
    "Questions:\n",
    "1. Are there any apparent outliers in numerical columns such as age, height, or income? What are the ranges of values in these columns?\n",
    "\n",
    "2. Any -1 values in numerical columns like income should be replaced with 0, as they may represent missing or invalid data.\n",
    "\n",
    "3. For other outliers, rather than deleting them, calculate the mean and median values using only the middle 80% of the data (removing extreme high and low values). This approach ensures that outliers do not disproportionately impact the analysis while retaining as much meaningful data as possible."
   ]
  },
  {
   "cell_type": "code",
   "execution_count": 12,
   "metadata": {},
   "outputs": [
    {
     "name": "stdout",
     "output_type": "stream",
     "text": [
      "                age        height          income\n",
      "count  59946.000000  59946.000000    59946.000000\n",
      "mean      32.340290     68.295266    20033.222534\n",
      "std        9.452779      3.994704    97346.192104\n",
      "min       18.000000      1.000000       -1.000000\n",
      "25%       26.000000     66.000000       -1.000000\n",
      "50%       30.000000     68.000000       -1.000000\n",
      "75%       37.000000     71.000000       -1.000000\n",
      "max      110.000000     95.000000  1000000.000000\n"
     ]
    }
   ],
   "source": [
    "# Summary statistics for numerical columns\n",
    "print(main_data[['age', 'height', 'income']].describe())\n"
   ]
  },
  {
   "cell_type": "code",
   "execution_count": 13,
   "metadata": {},
   "outputs": [
    {
     "name": "stdout",
     "output_type": "stream",
     "text": [
      "age        2638\n",
      "height      285\n",
      "income    11504\n",
      "dtype: int64\n"
     ]
    }
   ],
   "source": [
    "#calculate outlier for each numerical columns\n",
    "Q1 = main_data[['age','height','income']].quantile(0.25)\n",
    "Q3 = main_data[['age','height','income']].quantile(0.75)\n",
    "IQR = Q3 - Q1\n",
    "\n",
    "#identify outliers\n",
    "outliers = (main_data[['age','height','income']] < (Q1 - 1.5 * IQR)) | (main_data[['age','height','income']] > (Q3 + 1.5 * IQR))\n",
    "outlier_count = outliers.sum()\n",
    "print(outlier_count)"
   ]
  },
  {
   "cell_type": "code",
   "execution_count": 14,
   "metadata": {},
   "outputs": [
    {
     "data": {
      "image/png": "[encoded data removed]",
      "text/plain": [
       "<Figure size 1500x500 with 1 Axes>"
      ]
     },
     "metadata": {},
     "output_type": "display_data"
    }
   ],
   "source": [
    "# Plot boxplots for numerical columns to chk the outliers\n",
    "plt.figure(figsize=(15, 5))\n",
    "sns.boxplot(data=main_data[['age', 'height']])\n",
    "plt.title('Boxplots for Age, Height, and Income')\n",
    "plt.show()\n"
   ]
  },
  {
   "cell_type": "code",
   "execution_count": 15,
   "metadata": {},
   "outputs": [
    {
     "name": "stdout",
     "output_type": "stream",
     "text": [
      "0        0\n",
      "1    80000\n",
      "2        0\n",
      "3    20000\n",
      "4        0\n",
      "Name: income, dtype: int64\n"
     ]
    }
   ],
   "source": [
    "main_data['income'] = main_data['income'].replace(-1,0)\n",
    "print(main_data['income'].head())"
   ]
  },
  {
   "cell_type": "code",
   "execution_count": 16,
   "metadata": {},
   "outputs": [
    {
     "name": "stdout",
     "output_type": "stream",
     "text": [
      "                age        height          income\n",
      "count  59946.000000  59946.000000    59946.000000\n",
      "mean      32.340290     68.295266    20034.030628\n",
      "std        9.452779      3.994704    97346.025793\n",
      "min       18.000000      1.000000        0.000000\n",
      "25%       26.000000     66.000000        0.000000\n",
      "50%       30.000000     68.000000        0.000000\n",
      "75%       37.000000     71.000000        0.000000\n",
      "max      110.000000     95.000000  1000000.000000\n"
     ]
    }
   ],
   "source": [
    "print(main_data[['age', 'height', 'income']].describe())"
   ]
  },
  {
   "cell_type": "code",
   "execution_count": 17,
   "metadata": {},
   "outputs": [
    {
     "name": "stdout",
     "output_type": "stream",
     "text": [
      "Age: Mean = 31.085972850678733, Median = 30.0\n",
      "Height: Mean = 68.32771024042371, Median = 68.0\n",
      "Income: Mean = 3250.411827261922, Median = 0.0\n"
     ]
    }
   ],
   "source": [
    "# Function to calculate mean and median after trimming extremes (middle 80%)\n",
    "def calculate_trimmed_mean_median(data, column):\n",
    "    # Sort the data for the given column\n",
    "    sorted_data = data[column].sort_values()\n",
    "    \n",
    "    # Remove the bottom 10% and top 10% values (middle 80%)\n",
    "    trimmed_data = sorted_data[int(len(sorted_data) * 0.1):int(len(sorted_data) * 0.9)]\n",
    "    \n",
    "    # Calculate mean and median on the trimmed data\n",
    "    trimmed_mean = trimmed_data.mean()\n",
    "    trimmed_median = trimmed_data.median()\n",
    "    \n",
    "    return trimmed_mean, trimmed_median\n",
    "\n",
    "# Apply this function to each column: age, height, income\n",
    "age_mean, age_median = calculate_trimmed_mean_median(main_data, 'age')\n",
    "height_mean, height_median = calculate_trimmed_mean_median(main_data, 'height')\n",
    "income_mean, income_median = calculate_trimmed_mean_median(main_data, 'income')\n",
    "\n",
    "# Print the results\n",
    "print(f\"Age: Mean = {age_mean}, Median = {age_median}\")\n",
    "print(f\"Height: Mean = {height_mean}, Median = {height_median}\")\n",
    "print(f\"Income: Mean = {income_mean}, Median = {income_median}\")\n"
   ]
  },
  {
   "cell_type": "markdown",
   "metadata": {},
   "source": [
    "Create a heatmap to visualize missing values across the dataset. Which columns show consistent missing data patterns?"
   ]
  },
  {
   "cell_type": "code",
   "execution_count": 23,
   "metadata": {},
   "outputs": [
    {
     "data": {
      "image/png": "[encoded data removed]",
      "text/plain": [
       "<Figure size 600x400 with 1 Axes>"
      ]
     },
     "metadata": {},
     "output_type": "display_data"
    }
   ],
   "source": [
    "# Generate a boolean mask where True represents missing values\n",
    "missing_data = main_data.isnull()\n",
    "\n",
    "# Create a heatmap to visualize missing values, where True (missing data) is purple\n",
    "plt.figure(figsize=(6, 4))  # Set the figure size\n",
    "sns.heatmap(missing_data, cbar=False, cmap='Purples', yticklabels=False, xticklabels=True)\n",
    "\n",
    "# Add title\n",
    "plt.title('Missing Values Heatmap')\n",
    "\n",
    "# Show the plot\n",
    "plt.show()\n"
   ]
  },
  {
   "cell_type": "code",
   "execution_count": 42,
   "metadata": {},
   "outputs": [
    {
     "ename": "KeyError",
     "evalue": "\"['age_bracket'] not found in axis\"",
     "output_type": "error",
     "traceback": [
      "\u001b[1;31m---------------------------------------------------------------------------\u001b[0m",
      "\u001b[1;31mKeyError\u001b[0m                                  Traceback (most recent call last)",
      "Cell \u001b[1;32mIn[42], line 2\u001b[0m\n\u001b[0;32m      1\u001b[0m \u001b[38;5;66;03m#dropping a column which was created earlier\u001b[39;00m\n\u001b[1;32m----> 2\u001b[0m main_data \u001b[38;5;241m=\u001b[39m main_data\u001b[38;5;241m.\u001b[39mdrop(columns\u001b[38;5;241m=\u001b[39m[\u001b[38;5;124m'\u001b[39m\u001b[38;5;124mage_bracket\u001b[39m\u001b[38;5;124m'\u001b[39m],inplace\u001b[38;5;241m=\u001b[39m\u001b[38;5;28;01mTrue\u001b[39;00m)\n",
      "File \u001b[1;32mc:\\ProgramData\\anaconda3\\Lib\\site-packages\\pandas\\core\\frame.py:5581\u001b[0m, in \u001b[0;36mDataFrame.drop\u001b[1;34m(self, labels, axis, index, columns, level, inplace, errors)\u001b[0m\n\u001b[0;32m   5433\u001b[0m \u001b[38;5;28;01mdef\u001b[39;00m \u001b[38;5;21mdrop\u001b[39m(\n\u001b[0;32m   5434\u001b[0m     \u001b[38;5;28mself\u001b[39m,\n\u001b[0;32m   5435\u001b[0m     labels: IndexLabel \u001b[38;5;241m|\u001b[39m \u001b[38;5;28;01mNone\u001b[39;00m \u001b[38;5;241m=\u001b[39m \u001b[38;5;28;01mNone\u001b[39;00m,\n\u001b[1;32m   (...)\u001b[0m\n\u001b[0;32m   5442\u001b[0m     errors: IgnoreRaise \u001b[38;5;241m=\u001b[39m \u001b[38;5;124m\"\u001b[39m\u001b[38;5;124mraise\u001b[39m\u001b[38;5;124m\"\u001b[39m,\n\u001b[0;32m   5443\u001b[0m ) \u001b[38;5;241m-\u001b[39m\u001b[38;5;241m>\u001b[39m DataFrame \u001b[38;5;241m|\u001b[39m \u001b[38;5;28;01mNone\u001b[39;00m:\n\u001b[0;32m   5444\u001b[0m \u001b[38;5;250m    \u001b[39m\u001b[38;5;124;03m\"\"\"\u001b[39;00m\n\u001b[0;32m   5445\u001b[0m \u001b[38;5;124;03m    Drop specified labels from rows or columns.\u001b[39;00m\n\u001b[0;32m   5446\u001b[0m \n\u001b[1;32m   (...)\u001b[0m\n\u001b[0;32m   5579\u001b[0m \u001b[38;5;124;03m            weight  1.0     0.8\u001b[39;00m\n\u001b[0;32m   5580\u001b[0m \u001b[38;5;124;03m    \"\"\"\u001b[39;00m\n\u001b[1;32m-> 5581\u001b[0m     \u001b[38;5;28;01mreturn\u001b[39;00m \u001b[38;5;28msuper\u001b[39m()\u001b[38;5;241m.\u001b[39mdrop(\n\u001b[0;32m   5582\u001b[0m         labels\u001b[38;5;241m=\u001b[39mlabels,\n\u001b[0;32m   5583\u001b[0m         axis\u001b[38;5;241m=\u001b[39maxis,\n\u001b[0;32m   5584\u001b[0m         index\u001b[38;5;241m=\u001b[39mindex,\n\u001b[0;32m   5585\u001b[0m         columns\u001b[38;5;241m=\u001b[39mcolumns,\n\u001b[0;32m   5586\u001b[0m         level\u001b[38;5;241m=\u001b[39mlevel,\n\u001b[0;32m   5587\u001b[0m         inplace\u001b[38;5;241m=\u001b[39minplace,\n\u001b[0;32m   5588\u001b[0m         errors\u001b[38;5;241m=\u001b[39merrors,\n\u001b[0;32m   5589\u001b[0m     )\n",
      "File \u001b[1;32mc:\\ProgramData\\anaconda3\\Lib\\site-packages\\pandas\\core\\generic.py:4788\u001b[0m, in \u001b[0;36mNDFrame.drop\u001b[1;34m(self, labels, axis, index, columns, level, inplace, errors)\u001b[0m\n\u001b[0;32m   4786\u001b[0m \u001b[38;5;28;01mfor\u001b[39;00m axis, labels \u001b[38;5;129;01min\u001b[39;00m axes\u001b[38;5;241m.\u001b[39mitems():\n\u001b[0;32m   4787\u001b[0m     \u001b[38;5;28;01mif\u001b[39;00m labels \u001b[38;5;129;01mis\u001b[39;00m \u001b[38;5;129;01mnot\u001b[39;00m \u001b[38;5;28;01mNone\u001b[39;00m:\n\u001b[1;32m-> 4788\u001b[0m         obj \u001b[38;5;241m=\u001b[39m obj\u001b[38;5;241m.\u001b[39m_drop_axis(labels, axis, level\u001b[38;5;241m=\u001b[39mlevel, errors\u001b[38;5;241m=\u001b[39merrors)\n\u001b[0;32m   4790\u001b[0m \u001b[38;5;28;01mif\u001b[39;00m inplace:\n\u001b[0;32m   4791\u001b[0m     \u001b[38;5;28mself\u001b[39m\u001b[38;5;241m.\u001b[39m_update_inplace(obj)\n",
      "File \u001b[1;32mc:\\ProgramData\\anaconda3\\Lib\\site-packages\\pandas\\core\\generic.py:4830\u001b[0m, in \u001b[0;36mNDFrame._drop_axis\u001b[1;34m(self, labels, axis, level, errors, only_slice)\u001b[0m\n\u001b[0;32m   4828\u001b[0m         new_axis \u001b[38;5;241m=\u001b[39m axis\u001b[38;5;241m.\u001b[39mdrop(labels, level\u001b[38;5;241m=\u001b[39mlevel, errors\u001b[38;5;241m=\u001b[39merrors)\n\u001b[0;32m   4829\u001b[0m     \u001b[38;5;28;01melse\u001b[39;00m:\n\u001b[1;32m-> 4830\u001b[0m         new_axis \u001b[38;5;241m=\u001b[39m axis\u001b[38;5;241m.\u001b[39mdrop(labels, errors\u001b[38;5;241m=\u001b[39merrors)\n\u001b[0;32m   4831\u001b[0m     indexer \u001b[38;5;241m=\u001b[39m axis\u001b[38;5;241m.\u001b[39mget_indexer(new_axis)\n\u001b[0;32m   4833\u001b[0m \u001b[38;5;66;03m# Case for non-unique axis\u001b[39;00m\n\u001b[0;32m   4834\u001b[0m \u001b[38;5;28;01melse\u001b[39;00m:\n",
      "File \u001b[1;32mc:\\ProgramData\\anaconda3\\Lib\\site-packages\\pandas\\core\\indexes\\base.py:7070\u001b[0m, in \u001b[0;36mIndex.drop\u001b[1;34m(self, labels, errors)\u001b[0m\n\u001b[0;32m   7068\u001b[0m \u001b[38;5;28;01mif\u001b[39;00m mask\u001b[38;5;241m.\u001b[39many():\n\u001b[0;32m   7069\u001b[0m     \u001b[38;5;28;01mif\u001b[39;00m errors \u001b[38;5;241m!=\u001b[39m \u001b[38;5;124m\"\u001b[39m\u001b[38;5;124mignore\u001b[39m\u001b[38;5;124m\"\u001b[39m:\n\u001b[1;32m-> 7070\u001b[0m         \u001b[38;5;28;01mraise\u001b[39;00m \u001b[38;5;167;01mKeyError\u001b[39;00m(\u001b[38;5;124mf\u001b[39m\u001b[38;5;124m\"\u001b[39m\u001b[38;5;132;01m{\u001b[39;00mlabels[mask]\u001b[38;5;241m.\u001b[39mtolist()\u001b[38;5;132;01m}\u001b[39;00m\u001b[38;5;124m not found in axis\u001b[39m\u001b[38;5;124m\"\u001b[39m)\n\u001b[0;32m   7071\u001b[0m     indexer \u001b[38;5;241m=\u001b[39m indexer[\u001b[38;5;241m~\u001b[39mmask]\n\u001b[0;32m   7072\u001b[0m \u001b[38;5;28;01mreturn\u001b[39;00m \u001b[38;5;28mself\u001b[39m\u001b[38;5;241m.\u001b[39mdelete(indexer)\n",
      "\u001b[1;31mKeyError\u001b[0m: \"['age_bracket'] not found in axis\""
     ]
    }
   ],
   "source": [
    "#dropping a column which was created earlier\n",
    "main_data = main_data.drop(columns=['age_bracket'],inplace=True)"
   ]
  },
  {
   "cell_type": "code",
   "execution_count": 56,
   "metadata": {},
   "outputs": [
    {
     "data": {
      "text/html": [
       "<div>\n",
       "<style scoped>\n",
       "    .dataframe tbody tr th:only-of-type {\n",
       "        vertical-align: middle;\n",
       "    }\n",
       "\n",
       "    .dataframe tbody tr th {\n",
       "        vertical-align: top;\n",
       "    }\n",
       "\n",
       "    .dataframe thead th {\n",
       "        text-align: right;\n",
       "    }\n",
       "</style>\n",
       "<table border=\"1\" class=\"dataframe\">\n",
       "  <thead>\n",
       "    <tr style=\"text-align: right;\">\n",
       "      <th></th>\n",
       "      <th>age</th>\n",
       "      <th>status</th>\n",
       "      <th>gender</th>\n",
       "      <th>body_type</th>\n",
       "      <th>diet</th>\n",
       "      <th>drinks</th>\n",
       "      <th>education</th>\n",
       "      <th>ethnicity</th>\n",
       "      <th>height</th>\n",
       "      <th>income</th>\n",
       "      <th>job</th>\n",
       "      <th>last_online</th>\n",
       "      <th>location</th>\n",
       "      <th>pets</th>\n",
       "      <th>religion</th>\n",
       "      <th>sign</th>\n",
       "      <th>speaks</th>\n",
       "      <th>age_group</th>\n",
       "      <th>Income_group</th>\n",
       "      <th>profile_completeness</th>\n",
       "    </tr>\n",
       "  </thead>\n",
       "  <tbody>\n",
       "    <tr>\n",
       "      <th>0</th>\n",
       "      <td>22</td>\n",
       "      <td>single</td>\n",
       "      <td>m</td>\n",
       "      <td>a little extra</td>\n",
       "      <td>strictly anything</td>\n",
       "      <td>socially</td>\n",
       "      <td>working on college/university</td>\n",
       "      <td>asian, white</td>\n",
       "      <td>75.0</td>\n",
       "      <td>NaN</td>\n",
       "      <td>transportation</td>\n",
       "      <td>NaT</td>\n",
       "      <td>south san francisco, california</td>\n",
       "      <td>likes dogs and likes cats</td>\n",
       "      <td>agnosticism and very serious about it</td>\n",
       "      <td>gemini</td>\n",
       "      <td>english</td>\n",
       "      <td>18-25</td>\n",
       "      <td>0</td>\n",
       "      <td>89.473684</td>\n",
       "    </tr>\n",
       "    <tr>\n",
       "      <th>1</th>\n",
       "      <td>35</td>\n",
       "      <td>single</td>\n",
       "      <td>m</td>\n",
       "      <td>average</td>\n",
       "      <td>mostly other</td>\n",
       "      <td>often</td>\n",
       "      <td>working on space camp</td>\n",
       "      <td>white</td>\n",
       "      <td>70.0</td>\n",
       "      <td>80000.0</td>\n",
       "      <td>hospitality / travel</td>\n",
       "      <td>NaT</td>\n",
       "      <td>oakland, california</td>\n",
       "      <td>likes dogs and likes cats</td>\n",
       "      <td>agnosticism but not too serious about it</td>\n",
       "      <td>cancer</td>\n",
       "      <td>english (fluently), spanish (poorly), french (...</td>\n",
       "      <td>26-35</td>\n",
       "      <td>Medium Income</td>\n",
       "      <td>94.736842</td>\n",
       "    </tr>\n",
       "    <tr>\n",
       "      <th>2</th>\n",
       "      <td>38</td>\n",
       "      <td>available</td>\n",
       "      <td>m</td>\n",
       "      <td>thin</td>\n",
       "      <td>anything</td>\n",
       "      <td>socially</td>\n",
       "      <td>graduated from masters program</td>\n",
       "      <td>NaN</td>\n",
       "      <td>68.0</td>\n",
       "      <td>NaN</td>\n",
       "      <td>NaN</td>\n",
       "      <td>2012-06-27 09:00:00-10:00</td>\n",
       "      <td>san francisco, california</td>\n",
       "      <td>has cats</td>\n",
       "      <td>NaN</td>\n",
       "      <td>pisces but it doesn&amp;rsquo;t matter</td>\n",
       "      <td>english, french, c++</td>\n",
       "      <td>36-45</td>\n",
       "      <td>0</td>\n",
       "      <td>78.947368</td>\n",
       "    </tr>\n",
       "    <tr>\n",
       "      <th>3</th>\n",
       "      <td>23</td>\n",
       "      <td>single</td>\n",
       "      <td>m</td>\n",
       "      <td>thin</td>\n",
       "      <td>vegetarian</td>\n",
       "      <td>socially</td>\n",
       "      <td>working on college/university</td>\n",
       "      <td>white</td>\n",
       "      <td>71.0</td>\n",
       "      <td>20000.0</td>\n",
       "      <td>student</td>\n",
       "      <td>2012-06-28 14:00:00-22:00</td>\n",
       "      <td>berkeley, california</td>\n",
       "      <td>likes cats</td>\n",
       "      <td>NaN</td>\n",
       "      <td>pisces</td>\n",
       "      <td>english, german (poorly)</td>\n",
       "      <td>18-25</td>\n",
       "      <td>low Income</td>\n",
       "      <td>94.736842</td>\n",
       "    </tr>\n",
       "    <tr>\n",
       "      <th>4</th>\n",
       "      <td>29</td>\n",
       "      <td>single</td>\n",
       "      <td>m</td>\n",
       "      <td>athletic</td>\n",
       "      <td>NaN</td>\n",
       "      <td>socially</td>\n",
       "      <td>graduated from college/university</td>\n",
       "      <td>asian, black, other</td>\n",
       "      <td>66.0</td>\n",
       "      <td>NaN</td>\n",
       "      <td>artistic / musical / writer</td>\n",
       "      <td>NaT</td>\n",
       "      <td>san francisco, california</td>\n",
       "      <td>likes dogs and likes cats</td>\n",
       "      <td>NaN</td>\n",
       "      <td>aquarius</td>\n",
       "      <td>english</td>\n",
       "      <td>26-35</td>\n",
       "      <td>0</td>\n",
       "      <td>78.947368</td>\n",
       "    </tr>\n",
       "  </tbody>\n",
       "</table>\n",
       "</div>"
      ],
      "text/plain": [
       "   age     status gender       body_type               diet    drinks  \\\n",
       "0   22     single      m  a little extra  strictly anything  socially   \n",
       "1   35     single      m         average       mostly other     often   \n",
       "2   38  available      m            thin           anything  socially   \n",
       "3   23     single      m            thin         vegetarian  socially   \n",
       "4   29     single      m        athletic                NaN  socially   \n",
       "\n",
       "                           education            ethnicity  height   income  \\\n",
       "0      working on college/university         asian, white    75.0      NaN   \n",
       "1              working on space camp                white    70.0  80000.0   \n",
       "2     graduated from masters program                  NaN    68.0      NaN   \n",
       "3      working on college/university                white    71.0  20000.0   \n",
       "4  graduated from college/university  asian, black, other    66.0      NaN   \n",
       "\n",
       "                           job                last_online  \\\n",
       "0               transportation                        NaT   \n",
       "1         hospitality / travel                        NaT   \n",
       "2                          NaN  2012-06-27 09:00:00-10:00   \n",
       "3                      student  2012-06-28 14:00:00-22:00   \n",
       "4  artistic / musical / writer                        NaT   \n",
       "\n",
       "                          location                       pets  \\\n",
       "0  south san francisco, california  likes dogs and likes cats   \n",
       "1              oakland, california  likes dogs and likes cats   \n",
       "2        san francisco, california                   has cats   \n",
       "3             berkeley, california                 likes cats   \n",
       "4        san francisco, california  likes dogs and likes cats   \n",
       "\n",
       "                                   religion  \\\n",
       "0     agnosticism and very serious about it   \n",
       "1  agnosticism but not too serious about it   \n",
       "2                                       NaN   \n",
       "3                                       NaN   \n",
       "4                                       NaN   \n",
       "\n",
       "                                 sign  \\\n",
       "0                              gemini   \n",
       "1                              cancer   \n",
       "2  pisces but it doesn&rsquo;t matter   \n",
       "3                              pisces   \n",
       "4                            aquarius   \n",
       "\n",
       "                                              speaks age_group   Income_group  \\\n",
       "0                                            english     18-25              0   \n",
       "1  english (fluently), spanish (poorly), french (...     26-35  Medium Income   \n",
       "2                               english, french, c++     36-45              0   \n",
       "3                           english, german (poorly)     18-25     low Income   \n",
       "4                                            english     26-35              0   \n",
       "\n",
       "   profile_completeness  \n",
       "0             89.473684  \n",
       "1             94.736842  \n",
       "2             78.947368  \n",
       "3             94.736842  \n",
       "4             78.947368  "
      ]
     },
     "execution_count": 56,
     "metadata": {},
     "output_type": "execute_result"
    }
   ],
   "source": [
    "# Define age bins and labels\n",
    "bins = [18, 25, 35, 45, np.inf]  # Define the age ranges\n",
    "labels = ['18-25', '26-35', '36-45', '46+']  # Define the corresponding labels\n",
    "\n",
    "# Create the new 'age_group' column\n",
    "main_data['age_group'] = pd.cut(main_data['age'], bins=bins, labels=labels, right=True)\n",
    "main_data.head()"
   ]
  },
  {
   "cell_type": "code",
   "execution_count": 40,
   "metadata": {},
   "outputs": [
    {
     "data": {
      "text/plain": [
       "count      11504.000000\n",
       "mean      104394.993046\n",
       "std       201433.528307\n",
       "min        20000.000000\n",
       "25%        20000.000000\n",
       "50%        50000.000000\n",
       "75%       100000.000000\n",
       "max      1000000.000000\n",
       "Name: income, dtype: float64"
      ]
     },
     "execution_count": 40,
     "metadata": {},
     "output_type": "execute_result"
    }
   ],
   "source": [
    "main_data['income'].describe()"
   ]
  },
  {
   "cell_type": "code",
   "execution_count": 47,
   "metadata": {},
   "outputs": [],
   "source": [
    "main_data['income'] = main_data['income'].replace(0,np.nan)\n",
    "income_quartiles = main_data['income'].quantile([0.25,0.5,.75])\n",
    "low_income = income_quartiles[0.25]\n",
    "high_income = income_quartiles[0.75]\n",
    "\n",
    "# Create a new column 'income_group' based on income thresholds\n",
    "condition = [\n",
    "    (main_data['income']<=low_income),\n",
    "    (main_data['income']>low_income) & (main_data['income']<=high_income),\n",
    "    (main_data['income']>high_income)\n",
    "]\n",
    "labels = ['low Income','Medium Income','High Income']\n",
    "\n",
    "# Assign the new categories to the 'income_group' column\n",
    "main_data['Income_group'] = np.select(condition,labels)"
   ]
  },
  {
   "cell_type": "markdown",
   "metadata": {},
   "source": [
    "Create a new feature, profile_completeness, by calculating the percentage of non-missing values for each user profile. How complete are most user profiles, and how does completeness vary across demographics?"
   ]
  },
  {
   "cell_type": "code",
   "execution_count": 51,
   "metadata": {},
   "outputs": [],
   "source": [
    "# Calculate the profile completeness for each user (percentage of non-missing values)\n",
    "profile_completeness = main_data.notna().mean(axis=1) * 100\n",
    "# Add the new column to the DataFrame\n",
    "main_data['profile_completeness'] = profile_completeness"
   ]
  },
  {
   "cell_type": "code",
   "execution_count": 58,
   "metadata": {},
   "outputs": [
    {
     "data": {
      "image/png": "[encoded data removed]",
      "text/plain": [
       "<Figure size 800x600 with 1 Axes>"
      ]
     },
     "metadata": {},
     "output_type": "display_data"
    },
    {
     "name": "stdout",
     "output_type": "stream",
     "text": [
      "Profile Completeness by Age Group:\n",
      "age_group\n",
      "18-25    83.235661\n",
      "26-35    83.147634\n",
      "36-45    83.754513\n",
      "46+      84.633799\n",
      "Name: profile_completeness, dtype: float64\n",
      "\n",
      "Profile Completeness by Income Group:\n",
      "income\n",
      "20000.0      91.623877\n",
      "30000.0      91.216352\n",
      "40000.0      90.908615\n",
      "50000.0      90.790823\n",
      "60000.0      90.517735\n",
      "70000.0      90.344674\n",
      "80000.0      90.279028\n",
      "100000.0     90.045131\n",
      "150000.0     89.874051\n",
      "250000.0     87.848817\n",
      "500000.0     88.486842\n",
      "1000000.0    90.655622\n",
      "Name: profile_completeness, dtype: float64\n"
     ]
    },
    {
     "name": "stderr",
     "output_type": "stream",
     "text": [
      "C:\\Users\\rajan\\AppData\\Local\\Temp\\ipykernel_18888\\402665424.py:10: FutureWarning: The default of observed=False is deprecated and will be changed to True in a future version of pandas. Pass observed=False to retain current behavior or observed=True to adopt the future default and silence this warning.\n",
      "  completeness_by_age = main_data.groupby('age_group')['profile_completeness'].mean()\n",
      "C:\\Users\\rajan\\AppData\\Local\\Temp\\ipykernel_18888\\402665424.py:19: FutureWarning: \n",
      "\n",
      "Passing `palette` without assigning `hue` is deprecated and will be removed in v0.14.0. Assign the `x` variable to `hue` and set `legend=False` for the same effect.\n",
      "\n",
      "  sns.barplot(x=completeness_by_age.index, y=completeness_by_age.values, palette='Set2')\n"
     ]
    },
    {
     "data": {
      "image/png": "[encoded data removed]",
      "text/plain": [
       "<Figure size 800x600 with 1 Axes>"
      ]
     },
     "metadata": {},
     "output_type": "display_data"
    },
    {
     "name": "stderr",
     "output_type": "stream",
     "text": [
      "C:\\Users\\rajan\\AppData\\Local\\Temp\\ipykernel_18888\\402665424.py:27: FutureWarning: \n",
      "\n",
      "Passing `palette` without assigning `hue` is deprecated and will be removed in v0.14.0. Assign the `x` variable to `hue` and set `legend=False` for the same effect.\n",
      "\n",
      "  sns.barplot(x=completeness_by_income.index, y=completeness_by_income.values, palette='Set2')\n"
     ]
    },
    {
     "data": {
      "image/png": "[encoded data removed]",
      "text/plain": [
       "<Figure size 800x600 with 1 Axes>"
      ]
     },
     "metadata": {},
     "output_type": "display_data"
    }
   ],
   "source": [
    "\n",
    "# Check the distribution of profile completeness\n",
    "plt.figure(figsize=(8, 6))\n",
    "sns.histplot(main_data['profile_completeness'], kde=True, color='blue', bins=20)\n",
    "plt.title('Distribution of Profile Completeness')\n",
    "plt.xlabel('Profile Completeness (%)')\n",
    "plt.ylabel('Frequency')\n",
    "plt.show()\n",
    "\n",
    "# Explore completeness across demographics (age group and income group)\n",
    "completeness_by_age = main_data.groupby('age_group')['profile_completeness'].mean()\n",
    "completeness_by_income = main_data.groupby('income')['profile_completeness'].mean()\n",
    "\n",
    "# Display the results\n",
    "print(f\"Profile Completeness by Age Group:\\n{completeness_by_age}\")\n",
    "print(f\"\\nProfile Completeness by Income Group:\\n{completeness_by_income}\")\n",
    "\n",
    "# Plot completeness by age group\n",
    "plt.figure(figsize=(8, 6))\n",
    "sns.barplot(x=completeness_by_age.index, y=completeness_by_age.values, palette='Set2')\n",
    "plt.title('Profile Completeness by Age Group')\n",
    "plt.xlabel('Age Group')\n",
    "plt.ylabel('Average Profile Completeness (%)')\n",
    "plt.show()\n",
    "\n",
    "# Plot completeness by income group\n",
    "plt.figure(figsize=(8, 6))\n",
    "sns.barplot(x=completeness_by_income.index, y=completeness_by_income.values, palette='Set2')\n",
    "plt.title('Profile Completeness by Income Group')\n",
    "plt.xlabel('Income Group')\n",
    "plt.ylabel('Average Profile Completeness (%)')\n",
    "plt.show()"
   ]
  },
  {
   "cell_type": "markdown",
   "metadata": {},
   "source": [
    "Convert the height column from inches to centimeters using the conversion factor (1 inch = 2.54 cm). Store the converted values in a new column, height_cm."
   ]
  },
  {
   "cell_type": "code",
   "execution_count": 66,
   "metadata": {},
   "outputs": [],
   "source": [
    "main_data['converted_height_cm'] = main_data['height'] * 2.54"
   ]
  },
  {
   "cell_type": "code",
   "execution_count": null,
   "metadata": {},
   "outputs": [],
   "source": [
    "#main_data = main_data.drop(columns=['converted_height_cm'])"
   ]
  },
  {
   "cell_type": "code",
   "execution_count": 67,
   "metadata": {},
   "outputs": [
    {
     "data": {
      "text/html": [
       "<div>\n",
       "<style scoped>\n",
       "    .dataframe tbody tr th:only-of-type {\n",
       "        vertical-align: middle;\n",
       "    }\n",
       "\n",
       "    .dataframe tbody tr th {\n",
       "        vertical-align: top;\n",
       "    }\n",
       "\n",
       "    .dataframe thead th {\n",
       "        text-align: right;\n",
       "    }\n",
       "</style>\n",
       "<table border=\"1\" class=\"dataframe\">\n",
       "  <thead>\n",
       "    <tr style=\"text-align: right;\">\n",
       "      <th></th>\n",
       "      <th>age</th>\n",
       "      <th>status</th>\n",
       "      <th>gender</th>\n",
       "      <th>body_type</th>\n",
       "      <th>diet</th>\n",
       "      <th>drinks</th>\n",
       "      <th>education</th>\n",
       "      <th>ethnicity</th>\n",
       "      <th>height</th>\n",
       "      <th>income</th>\n",
       "      <th>...</th>\n",
       "      <th>last_online</th>\n",
       "      <th>location</th>\n",
       "      <th>pets</th>\n",
       "      <th>religion</th>\n",
       "      <th>sign</th>\n",
       "      <th>speaks</th>\n",
       "      <th>age_group</th>\n",
       "      <th>Income_group</th>\n",
       "      <th>profile_completeness</th>\n",
       "      <th>converted_height_cm</th>\n",
       "    </tr>\n",
       "  </thead>\n",
       "  <tbody>\n",
       "    <tr>\n",
       "      <th>0</th>\n",
       "      <td>22</td>\n",
       "      <td>single</td>\n",
       "      <td>m</td>\n",
       "      <td>a little extra</td>\n",
       "      <td>strictly anything</td>\n",
       "      <td>socially</td>\n",
       "      <td>working on college/university</td>\n",
       "      <td>asian, white</td>\n",
       "      <td>75.0</td>\n",
       "      <td>NaN</td>\n",
       "      <td>...</td>\n",
       "      <td>NaT</td>\n",
       "      <td>south san francisco, california</td>\n",
       "      <td>likes dogs and likes cats</td>\n",
       "      <td>agnosticism and very serious about it</td>\n",
       "      <td>gemini</td>\n",
       "      <td>english</td>\n",
       "      <td>18-25</td>\n",
       "      <td>0</td>\n",
       "      <td>89.473684</td>\n",
       "      <td>190.50</td>\n",
       "    </tr>\n",
       "    <tr>\n",
       "      <th>1</th>\n",
       "      <td>35</td>\n",
       "      <td>single</td>\n",
       "      <td>m</td>\n",
       "      <td>average</td>\n",
       "      <td>mostly other</td>\n",
       "      <td>often</td>\n",
       "      <td>working on space camp</td>\n",
       "      <td>white</td>\n",
       "      <td>70.0</td>\n",
       "      <td>80000.0</td>\n",
       "      <td>...</td>\n",
       "      <td>NaT</td>\n",
       "      <td>oakland, california</td>\n",
       "      <td>likes dogs and likes cats</td>\n",
       "      <td>agnosticism but not too serious about it</td>\n",
       "      <td>cancer</td>\n",
       "      <td>english (fluently), spanish (poorly), french (...</td>\n",
       "      <td>26-35</td>\n",
       "      <td>Medium Income</td>\n",
       "      <td>94.736842</td>\n",
       "      <td>177.80</td>\n",
       "    </tr>\n",
       "    <tr>\n",
       "      <th>2</th>\n",
       "      <td>38</td>\n",
       "      <td>available</td>\n",
       "      <td>m</td>\n",
       "      <td>thin</td>\n",
       "      <td>anything</td>\n",
       "      <td>socially</td>\n",
       "      <td>graduated from masters program</td>\n",
       "      <td>NaN</td>\n",
       "      <td>68.0</td>\n",
       "      <td>NaN</td>\n",
       "      <td>...</td>\n",
       "      <td>2012-06-27 09:00:00-10:00</td>\n",
       "      <td>san francisco, california</td>\n",
       "      <td>has cats</td>\n",
       "      <td>NaN</td>\n",
       "      <td>pisces but it doesn&amp;rsquo;t matter</td>\n",
       "      <td>english, french, c++</td>\n",
       "      <td>36-45</td>\n",
       "      <td>0</td>\n",
       "      <td>78.947368</td>\n",
       "      <td>172.72</td>\n",
       "    </tr>\n",
       "    <tr>\n",
       "      <th>3</th>\n",
       "      <td>23</td>\n",
       "      <td>single</td>\n",
       "      <td>m</td>\n",
       "      <td>thin</td>\n",
       "      <td>vegetarian</td>\n",
       "      <td>socially</td>\n",
       "      <td>working on college/university</td>\n",
       "      <td>white</td>\n",
       "      <td>71.0</td>\n",
       "      <td>20000.0</td>\n",
       "      <td>...</td>\n",
       "      <td>2012-06-28 14:00:00-22:00</td>\n",
       "      <td>berkeley, california</td>\n",
       "      <td>likes cats</td>\n",
       "      <td>NaN</td>\n",
       "      <td>pisces</td>\n",
       "      <td>english, german (poorly)</td>\n",
       "      <td>18-25</td>\n",
       "      <td>low Income</td>\n",
       "      <td>94.736842</td>\n",
       "      <td>180.34</td>\n",
       "    </tr>\n",
       "    <tr>\n",
       "      <th>4</th>\n",
       "      <td>29</td>\n",
       "      <td>single</td>\n",
       "      <td>m</td>\n",
       "      <td>athletic</td>\n",
       "      <td>NaN</td>\n",
       "      <td>socially</td>\n",
       "      <td>graduated from college/university</td>\n",
       "      <td>asian, black, other</td>\n",
       "      <td>66.0</td>\n",
       "      <td>NaN</td>\n",
       "      <td>...</td>\n",
       "      <td>NaT</td>\n",
       "      <td>san francisco, california</td>\n",
       "      <td>likes dogs and likes cats</td>\n",
       "      <td>NaN</td>\n",
       "      <td>aquarius</td>\n",
       "      <td>english</td>\n",
       "      <td>26-35</td>\n",
       "      <td>0</td>\n",
       "      <td>78.947368</td>\n",
       "      <td>167.64</td>\n",
       "    </tr>\n",
       "  </tbody>\n",
       "</table>\n",
       "<p>5 rows × 21 columns</p>\n",
       "</div>"
      ],
      "text/plain": [
       "   age     status gender       body_type               diet    drinks  \\\n",
       "0   22     single      m  a little extra  strictly anything  socially   \n",
       "1   35     single      m         average       mostly other     often   \n",
       "2   38  available      m            thin           anything  socially   \n",
       "3   23     single      m            thin         vegetarian  socially   \n",
       "4   29     single      m        athletic                NaN  socially   \n",
       "\n",
       "                           education            ethnicity  height   income  \\\n",
       "0      working on college/university         asian, white    75.0      NaN   \n",
       "1              working on space camp                white    70.0  80000.0   \n",
       "2     graduated from masters program                  NaN    68.0      NaN   \n",
       "3      working on college/university                white    71.0  20000.0   \n",
       "4  graduated from college/university  asian, black, other    66.0      NaN   \n",
       "\n",
       "   ...                last_online                         location  \\\n",
       "0  ...                        NaT  south san francisco, california   \n",
       "1  ...                        NaT              oakland, california   \n",
       "2  ...  2012-06-27 09:00:00-10:00        san francisco, california   \n",
       "3  ...  2012-06-28 14:00:00-22:00             berkeley, california   \n",
       "4  ...                        NaT        san francisco, california   \n",
       "\n",
       "                        pets                                  religion  \\\n",
       "0  likes dogs and likes cats     agnosticism and very serious about it   \n",
       "1  likes dogs and likes cats  agnosticism but not too serious about it   \n",
       "2                   has cats                                       NaN   \n",
       "3                 likes cats                                       NaN   \n",
       "4  likes dogs and likes cats                                       NaN   \n",
       "\n",
       "                                 sign  \\\n",
       "0                              gemini   \n",
       "1                              cancer   \n",
       "2  pisces but it doesn&rsquo;t matter   \n",
       "3                              pisces   \n",
       "4                            aquarius   \n",
       "\n",
       "                                              speaks age_group   Income_group  \\\n",
       "0                                            english     18-25              0   \n",
       "1  english (fluently), spanish (poorly), french (...     26-35  Medium Income   \n",
       "2                               english, french, c++     36-45              0   \n",
       "3                           english, german (poorly)     18-25     low Income   \n",
       "4                                            english     26-35              0   \n",
       "\n",
       "  profile_completeness  converted_height_cm  \n",
       "0            89.473684               190.50  \n",
       "1            94.736842               177.80  \n",
       "2            78.947368               172.72  \n",
       "3            94.736842               180.34  \n",
       "4            78.947368               167.64  \n",
       "\n",
       "[5 rows x 21 columns]"
      ]
     },
     "execution_count": 67,
     "metadata": {},
     "output_type": "execute_result"
    }
   ],
   "source": [
    "main_data.head()"
   ]
  },
  {
   "cell_type": "markdown",
   "metadata": {},
   "source": [
    "\n",
    "Demographic Analysis\n",
    "1. What is the gender distribution (gender) across the platform? Are there any significant imbalances?\n",
    "\n",
    "2. What are the proportions of users in different status categories (e.g., single, married, seeing someone)? What does this suggest about the platform’s target audience?\n",
    "\n",
    "3. How does status vary by gender? For example, what proportion of men and women identify as single?"
   ]
  },
  {
   "cell_type": "code",
   "execution_count": 87,
   "metadata": {},
   "outputs": [
    {
     "name": "stdout",
     "output_type": "stream",
     "text": [
      "gender\n",
      "m    35829\n",
      "f    24117\n",
      "Name: count, dtype: int64\n"
     ]
    },
    {
     "name": "stderr",
     "output_type": "stream",
     "text": [
      "C:\\Users\\rajan\\AppData\\Local\\Temp\\ipykernel_18888\\392485733.py:5: FutureWarning: \n",
      "\n",
      "Passing `palette` without assigning `hue` is deprecated and will be removed in v0.14.0. Assign the `x` variable to `hue` and set `legend=False` for the same effect.\n",
      "\n",
      "  sns.barplot(x=gender_distribution.index,y=gender_distribution.values,palette='Set2')\n"
     ]
    },
    {
     "data": {
      "image/png": "[encoded data removed]",
      "text/plain": [
       "<Figure size 600x400 with 1 Axes>"
      ]
     },
     "metadata": {},
     "output_type": "display_data"
    }
   ],
   "source": [
    "# Count the number of occurrences for each gender\n",
    "gender_distribution = main_data['gender'].value_counts()\n",
    "print(gender_distribution)\n",
    "plt.figure(figsize=(6,4))\n",
    "sns.barplot(x=gender_distribution.index,y=gender_distribution.values,palette='Set2')\n",
    "plt.title('Gender distribution on the platform')\n",
    "plt.xlabel('Gender')\n",
    "plt.ylabel('Count')\n",
    "plt.show()"
   ]
  },
  {
   "cell_type": "code",
   "execution_count": 91,
   "metadata": {},
   "outputs": [
    {
     "name": "stdout",
     "output_type": "stream",
     "text": [
      "                Count  Percentage\n",
      "status                           \n",
      "single          55697       92.91\n",
      "seeing someone   2064        3.44\n",
      "available        1865        3.11\n",
      "married           310        0.52\n",
      "unknown            10        0.02\n"
     ]
    }
   ],
   "source": [
    "status_category = main_data['status'].value_counts()\n",
    "status_category\n",
    "# Convert counts to percentages\n",
    "status_percentage = (status_category / status_category.sum()) * 100\n",
    "\n",
    "# Display the counts and percentages\n",
    "print(pd.DataFrame({'Count': status_category, 'Percentage': status_percentage.round(2)}))"
   ]
  },
  {
   "cell_type": "code",
   "execution_count": 98,
   "metadata": {},
   "outputs": [
    {
     "data": {
      "text/html": [
       "<div>\n",
       "<style scoped>\n",
       "    .dataframe tbody tr th:only-of-type {\n",
       "        vertical-align: middle;\n",
       "    }\n",
       "\n",
       "    .dataframe tbody tr th {\n",
       "        vertical-align: top;\n",
       "    }\n",
       "\n",
       "    .dataframe thead th {\n",
       "        text-align: right;\n",
       "    }\n",
       "</style>\n",
       "<table border=\"1\" class=\"dataframe\">\n",
       "  <thead>\n",
       "    <tr style=\"text-align: right;\">\n",
       "      <th>status</th>\n",
       "      <th>available</th>\n",
       "      <th>married</th>\n",
       "      <th>seeing someone</th>\n",
       "      <th>single</th>\n",
       "      <th>unknown</th>\n",
       "    </tr>\n",
       "    <tr>\n",
       "      <th>gender</th>\n",
       "      <th></th>\n",
       "      <th></th>\n",
       "      <th></th>\n",
       "      <th></th>\n",
       "      <th></th>\n",
       "    </tr>\n",
       "  </thead>\n",
       "  <tbody>\n",
       "    <tr>\n",
       "      <th>f</th>\n",
       "      <td>2.72</td>\n",
       "      <td>0.56</td>\n",
       "      <td>4.16</td>\n",
       "      <td>92.54</td>\n",
       "      <td>0.02</td>\n",
       "    </tr>\n",
       "    <tr>\n",
       "      <th>m</th>\n",
       "      <td>3.37</td>\n",
       "      <td>0.49</td>\n",
       "      <td>2.96</td>\n",
       "      <td>93.16</td>\n",
       "      <td>0.02</td>\n",
       "    </tr>\n",
       "  </tbody>\n",
       "</table>\n",
       "</div>"
      ],
      "text/plain": [
       "status  available  married  seeing someone  single  unknown\n",
       "gender                                                     \n",
       "f            2.72     0.56            4.16   92.54     0.02\n",
       "m            3.37     0.49            2.96   93.16     0.02"
      ]
     },
     "execution_count": 98,
     "metadata": {},
     "output_type": "execute_result"
    }
   ],
   "source": [
    "#status_by_gender = main_data['status'].corr(main_data['gender'])\n",
    "status_by_gender = main_data.groupby('gender')['status'].value_counts(normalize = True).unstack() * 100\n",
    "status_by_gender.round(2)"
   ]
  },
  {
   "cell_type": "code",
   "execution_count": null,
   "metadata": {},
   "outputs": [],
   "source": []
  }
 ],
 "metadata": {
  "kernelspec": {
   "display_name": "base",
   "language": "python",
   "name": "python3"
  },
  "language_info": {
   "codemirror_mode": {
    "name": "ipython",
    "version": 3
   },
   "file_extension": ".py",
   "mimetype": "text/x-python",
   "name": "python",
   "nbconvert_exporter": "python",
   "pygments_lexer": "ipython3",
   "version": "3.12.7"
  }
 },
 "nbformat": 4,
 "nbformat_minor": 2
}
