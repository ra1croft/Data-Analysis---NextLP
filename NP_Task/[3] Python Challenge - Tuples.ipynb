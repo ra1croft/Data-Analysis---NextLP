{
  "cells": [
    {
      "cell_type": "markdown",
      "metadata": {},
      "source": [
        "# Tuples in Python\n",
        "\n",
        "---\n",
        "\n",
        "### 1. What is a Tuple?\n",
        "\n",
        "A **tuple** in Python is a collection of ordered items, similar to a list, but with a major difference: tuples are **immutable**. Once a tuple is created, its contents cannot be changed, added, or removed. This immutability makes tuples useful for certain applications, especially when data integrity is important.\n",
        "\n",
        "**Example:**\n",
        "```python\n",
        "# A tuple representing a 2D point\n",
        "point = (3, 4)\n",
        "```\n",
        "In this example, `point` is a tuple containing two elements, `3` and `4`, which represent coordinates on a grid. \n",
        "\n",
        "---\n",
        "\n",
        "### 2. Characteristics of Tuples\n",
        "\n",
        "Here are the defining characteristics of tuples:\n",
        "\n",
        "1. **Immutable**: Once created, you cannot modify the elements in a tuple.\n",
        "2. **Ordered**: Elements in a tuple have a defined sequence, so each element has an index.\n",
        "3. **Heterogeneous**: Tuples can store different data types, like integers, strings, and floats.\n",
        "4. **Hashable**: Since tuples are immutable, they can be used as keys in dictionaries, unlike lists.\n",
        "\n",
        "---\n",
        "\n",
        "### 3. Creating Tuples\n",
        "\n",
        "Tuples can be created in a few ways:\n",
        "\n",
        "#### 3.1 Using Parentheses\n",
        "\n",
        "To create a tuple, place elements inside parentheses `()` and separate them with commas:\n",
        "```python\n",
        "# A tuple with multiple data types\n",
        "my_tuple = (1, \"apple\", 3.14, True)\n",
        "```\n",
        "\n",
        "#### 3.2 Without Parentheses\n",
        "\n",
        "You can omit the parentheses when defining a tuple by separating values with commas:\n",
        "```python\n",
        "# Tuple without parentheses\n",
        "my_tuple = 1, \"banana\", 4.5\n",
        "```\n",
        "**Note**: Using parentheses is generally preferred for readability.\n",
        "\n",
        "#### 3.3 Single-Element Tuple\n",
        "\n",
        "To create a tuple with a single element, include a trailing comma. Without it, Python interprets it as a single value:\n",
        "```python\n",
        "# Without a comma, this is just an integer\n",
        "not_a_tuple = (42)  # Type: int\n",
        "\n",
        "# With a comma, this is a tuple with one element\n",
        "single_element_tuple = (42,)\n",
        "```\n",
        "\n",
        "#### 3.4 Using the `tuple()` Constructor\n",
        "\n",
        "The `tuple()` function converts an iterable (like a list or string) into a tuple:\n",
        "```python\n",
        "# Converting a list to a tuple\n",
        "my_list = [1, 2, 3]\n",
        "my_tuple = tuple(my_list)  # Result: (1, 2, 3)\n",
        "\n",
        "# Converting a string to a tuple\n",
        "my_string = \"hello\"\n",
        "my_tuple = tuple(my_string)  # Result: ('h', 'e', 'l', 'l', 'o')\n",
        "```\n",
        "\n",
        "---\n",
        "\n",
        "### 4. Accessing Elements in a Tuple\n",
        "\n",
        "Since tuples are ordered, you can access elements by their index. Python uses zero-based indexing, so the first element is at index `0`.\n",
        "\n",
        "```python\n",
        "# Accessing elements by index\n",
        "my_tuple = (10, 20, 30, 40)\n",
        "\n",
        "# Access the first element\n",
        "print(my_tuple[0])  # Output: 10\n",
        "\n",
        "# Access the last element using negative indexing\n",
        "print(my_tuple[-1])  # Output: 40\n",
        "```\n",
        "\n",
        "#### 4.1 Slicing a Tuple\n",
        "\n",
        "You can also access a range of elements using slicing, which uses the syntax `[start:end:step]`:\n",
        "```python\n",
        "# Slicing a tuple\n",
        "my_tuple = (0, 1, 2, 3, 4, 5)\n",
        "\n",
        "# Slice from index 1 to 3 (end index is exclusive)\n",
        "print(my_tuple[1:4])  # Output: (1, 2, 3)\n",
        "\n",
        "# Slice with step\n",
        "print(my_tuple[::2])  # Output: (0, 2, 4)\n",
        "```\n",
        "\n",
        "---\n",
        "\n",
        "### 5. Tuple Functions and Methods\n",
        "\n",
        "Python provides two primary methods for tuples:\n",
        "\n",
        "1. **count(value)**: Counts the occurrences of `value` in the tuple.\n",
        "   ```python\n",
        "   my_tuple = (1, 2, 2, 3, 4)\n",
        "   print(my_tuple.count(2))  # Output: 2\n",
        "   ```\n",
        "\n",
        "2. **index(value)**: Returns the index of the first occurrence of `value`.\n",
        "   ```python\n",
        "   my_tuple = (1, 2, 3, 4, 5)\n",
        "   print(my_tuple.index(3))  # Output: 2\n",
        "   ```\n",
        "\n",
        "---\n",
        "\n",
        "### 6. Tuple Operations\n",
        "\n",
        "Tuples support various operations, including concatenation, repetition, and membership testing.\n",
        "\n",
        "#### 6.1 Concatenation (`+`)\n",
        "\n",
        "You can concatenate two tuples using the `+` operator to combine them into a new tuple:\n",
        "```python\n",
        "tuple1 = (1, 2)\n",
        "tuple2 = (3, 4)\n",
        "print(tuple1 + tuple2)  # Output: (1, 2, 3, 4)\n",
        "```\n",
        "\n",
        "#### 6.2 Repetition (`*`)\n",
        "\n",
        "The `*` operator repeats a tuple a specified number of times:\n",
        "```python\n",
        "my_tuple = (1, 2)\n",
        "print(my_tuple * 3)  # Output: (1, 2, 1, 2, 1, 2)\n",
        "```\n",
        "\n",
        "6.3 Membership Testing (`in` and `not in`)\n",
        "\n",
        "You can check if an element is in a tuple using `in` and `not in`:\n",
        "```python\n",
        "my_tuple = (1, 2, 3)\n",
        "print(2 in my_tuple)     # Output: True\n",
        "print(5 not in my_tuple) # Output: True\n",
        "```\n",
        "\n",
        "---\n",
        "\n",
        "### 8. Why Use Tuples Over Lists?\n",
        "\n",
        "Both lists and tuples can store multiple elements, but tuples offer several advantages:\n",
        "\n",
        "1. **Immutability for Data Integrity**: When you have a collection of values that should remain constant, tuples prevent accidental changes.\n",
        "2. **Efficiency**: Tuples require less memory and are generally faster than lists.\n",
        "3. **Dictionary Keys**: Since tuples are hashable, they can be used as dictionary keys, unlike lists.\n",
        "4. **Data Structures**: Tuples are ideal for representing fixed structures, such as coordinates, RGB colors, or database records."
      ]
    },
    {
      "cell_type": "code",
      "execution_count": null,
      "metadata": {
        "trusted": true
      },
      "outputs": [],
      "source": []
    },
    {
      "cell_type": "markdown",
      "metadata": {},
      "source": [
        "### Question 1: Basic Tuple Creation\n",
        "\n",
        "#### Task:\n",
        "1. Create a tuple named `my_tuple` that contains the following five elements:\n",
        "   - An integer\n",
        "   - A string\n",
        "   - A float\n",
        "   - A Boolean value\n",
        "   - A list with at least three items\n",
        "2. Print the entire tuple."
      ]
    },
    {
      "cell_type": "code",
      "execution_count": 2,
      "metadata": {
        "trusted": true
      },
      "outputs": [
        {
          "name": "stdout",
          "output_type": "stream",
          "text": [
            "(2, 'Rajan', 2.2, True, [2, 3, 4])\n"
          ]
        }
      ],
      "source": [
        "my_tuple=(2,\"Rajan\",2.2,True,[2,3,4])\n",
        "print(my_tuple)"
      ]
    },
    {
      "cell_type": "markdown",
      "metadata": {},
      "source": [
        "### Question 2: Accessing Tuple Elements and Slicing\n",
        "\n",
        "#### Task:\n",
        "Given the tuple `my_tuple = (5, 10, 15, 20, 25, 30)`, perform the following:\n",
        "1. Access and print the first element.\n",
        "2. Use negative indexing to access and print the last element.\n",
        "3. Create a slice containing the second, third, and fourth elements, and print it."
      ]
    },
    {
      "cell_type": "code",
      "execution_count": 7,
      "metadata": {
        "trusted": true
      },
      "outputs": [
        {
          "name": "stdout",
          "output_type": "stream",
          "text": [
            "5\n",
            "30\n",
            "(10, 15, 20)\n"
          ]
        }
      ],
      "source": [
        "my_tuple= (5,10,15,20,25,30)\n",
        "print(my_tuple[0])\n",
        "print(my_tuple[-1])\n",
        "print(my_tuple[1:4])"
      ]
    },
    {
      "cell_type": "markdown",
      "metadata": {},
      "source": [
        "### Question 3: Using Tuple Functions (`count` and `index`)\n",
        "\n",
        "#### Task:\n",
        "Given the tuple `numbers = (1, 3, 7, 8, 7, 5, 6, 7, 3, 1)`, perform the following:\n",
        "1. Find the number of times the element `7` appears in the tuple.\n",
        "2. Find the index of the first occurrence of the element `5`."
      ]
    },
    {
      "cell_type": "code",
      "execution_count": 11,
      "metadata": {
        "trusted": true
      },
      "outputs": [
        {
          "name": "stdout",
          "output_type": "stream",
          "text": [
            "3\n",
            "5\n"
          ]
        }
      ],
      "source": [
        "numbers = (1,3,7,8,7,5,6,7,3,1)\n",
        "print(numbers.count(7))\n",
        "print(numbers.index(5))"
      ]
    },
    {
      "cell_type": "markdown",
      "metadata": {},
      "source": [
        "### Question 4: Tuple Concatenation and Repetition\n",
        "\n",
        "#### Task:\n",
        "1. Create two tuples: `tuple1 = ('a', 'b', 'c')` and `tuple2 = (1, 2, 3)`.\n",
        "2. Concatenate `tuple1` and `tuple2` using the `+` operator, and print the result.\n",
        "3. Use the `*` operator to repeat `tuple1` three times, and print the result."
      ]
    },
    {
      "cell_type": "code",
      "execution_count": 13,
      "metadata": {
        "trusted": true
      },
      "outputs": [
        {
          "name": "stdout",
          "output_type": "stream",
          "text": [
            "('a', 'b', 'c', 1, 2, 3)\n",
            "('a', 'b', 'c', 'a', 'b', 'c', 'a', 'b', 'c')\n"
          ]
        }
      ],
      "source": [
        "tuple1=('a','b','c')\n",
        "tuple2=(1,2,3)\n",
        "print(tuple1+tuple2)\n",
        "print(tuple1*3)"
      ]
    },
    {
      "cell_type": "markdown",
      "metadata": {},
      "source": [
        "### Question 5: Tuple Membership Testing\n",
        "\n",
        "#### Task:\n",
        "Given the tuple `fruits = ('apple', 'banana', 'cherry', 'date')`, perform the following:\n",
        "1. Check if `'banana'` is an element in the tuple, and print an appropriate message.\n",
        "2. Check if `'grape'` is not in the tuple, and print an appropriate message."
      ]
    },
    {
      "cell_type": "code",
      "execution_count": 19,
      "metadata": {
        "trusted": true
      },
      "outputs": [
        {
          "name": "stdout",
          "output_type": "stream",
          "text": [
            "True\n",
            "False\n"
          ]
        }
      ],
      "source": [
        "fruits=('apple','banana','cherry','date')\n",
        "print('banana' in fruits)\n",
        "print('grape' in fruits)"
      ]
    },
    {
      "cell_type": "markdown",
      "metadata": {},
      "source": [
        "### Question 6: Real-World Tuple Application (Coordinates)\n",
        "\n",
        "#### Task:\n",
        "Using the list of tuples `coordinates = [(2, 3), (4, 5), (6, 7), (8, 9)]`, perform the following:\n",
        "1. Extract all x-coordinates (the first element of each tuple) and store them in a list called `x_coords`.\n",
        "2. Extract all y-coordinates (the second element of each tuple) and store them in a list called `y_coords`.\n",
        "3. Print both `x_coords` and `y_coords`."
      ]
    },
    {
      "cell_type": "code",
      "execution_count": 24,
      "metadata": {
        "trusted": true
      },
      "outputs": [
        {
          "name": "stdout",
          "output_type": "stream",
          "text": [
            "X-coordinates: [2, 4, 6, 8]\n"
          ]
        }
      ],
      "source": [
        "coordinates = [(2,3),(4,5),(6,7),(8,9)]\n",
        "x_coordinates = [x for x, y in coordinates]  # Extract only x-values\n",
        "print(\"X-coordinates:\", x_coordinates)"
      ]
    },
    {
      "cell_type": "markdown",
      "metadata": {},
      "source": [
        "### Question 7: Filtering Elements in a Tuple Using Loops\n",
        "\n",
        "#### Task:\n",
        "Given a tuple `numbers = (12, 17, 24, 31, 46, 52, 63)`, use a loop to:\n",
        "1. Extract only the even numbers from the tuple and store them in a list called `even_numbers`.\n",
        "2. Extract only the odd numbers from the tuple and store them in a list called `odd_numbers`.\n",
        "3. Print both `even_numbers` and `odd_numbers`."
      ]
    },
    {
      "cell_type": "code",
      "execution_count": 38,
      "metadata": {
        "trusted": true
      },
      "outputs": [
        {
          "name": "stdout",
          "output_type": "stream",
          "text": [
            "[12, 24, 46, 52]\n",
            "[17, 31, 63]\n"
          ]
        }
      ],
      "source": [
        "numbers = (12,17,24,31,46,52,63)\n",
        "even_number = [num for num in numbers if num % 2 == 0]\n",
        "print(even_number)\n",
        "odd_number = [num for num in numbers if num % 2 != 0]\n",
        "print(odd_number)"
      ]
    },
    {
      "cell_type": "code",
      "execution_count": null,
      "metadata": {},
      "outputs": [],
      "source": []
    }
  ],
  "metadata": {
    "kernelspec": {
      "display_name": "base",
      "language": "python",
      "name": "python3"
    },
    "language_info": {
      "codemirror_mode": {
        "name": "ipython",
        "version": 3
      },
      "file_extension": ".py",
      "mimetype": "text/x-python",
      "name": "python",
      "nbconvert_exporter": "python",
      "pygments_lexer": "ipython3",
      "version": "3.12.7"
    }
  },
  "nbformat": 4,
  "nbformat_minor": 4
}
