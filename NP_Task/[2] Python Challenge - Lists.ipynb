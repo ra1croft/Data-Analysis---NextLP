{
  "cells": [
    {
      "cell_type": "markdown",
      "metadata": {},
      "source": [
        "# Lists in Python\n",
        "\n",
        "---\n",
        "\n",
        "### 1. Creating Lists\n",
        "A list is a collection data type in Python that allows you to store multiple items in a single variable. Lists are created using square brackets `[]` and can store items of various data types, including integers, strings, floats, and even other lists. Lists are mutable, meaning you can change their content after creation.\n",
        "\n",
        "```python\n",
        "my_list = [1, 2, 3, \"apple\", 4.5, [5, 6]]\n",
        "```\n",
        "\n",
        "---\n",
        "\n",
        "### 2. Accessing Elements\n",
        "You can access elements in a list by their index. In Python, list indices start at `0` for the first element, so `list[0]` returns the first item. Negative indexing allows you to access elements from the end of the list, with `-1` referring to the last item.\n",
        "\n",
        "```python\n",
        "my_list = [10, 20, 30, 40]\n",
        "first_element = my_list[0]    # Returns 10\n",
        "second_element = my_list[1]   # Returns 20\n",
        "last_element = my_list[-1]    # Returns 40\n",
        "```\n",
        "\n",
        "---\n",
        "\n",
        "### 3. Slicing Lists\n",
        "Slicing allows you to extract a subset of a list. It uses the syntax `list[start:end:step]`, where:\n",
        "\n",
        "- `start` is the index where the slice begins (inclusive).\n",
        "- `end` is the index where the slice ends (exclusive).\n",
        "- `step` is the interval between elements in the slice.\n",
        "\n",
        "If `start`, `end`, or `step` is not specified, they take default values:\n",
        "- `start` defaults to `0` (beginning of the list).\n",
        "- `end` defaults to the length of the list.\n",
        "- `step` defaults to `1`.\n",
        "\n",
        "```python\n",
        "# Example\n",
        "my_list = [0, 1, 2, 3, 4, 5]\n",
        "slice1 = my_list[1:4]       # [1, 2, 3]\n",
        "slice2 = my_list[:3]        # [0, 1, 2]\n",
        "slice3 = my_list[2:]        # [2, 3, 4, 5]\n",
        "slice4 = my_list[::2]       # [0, 2, 4]\n",
        "slice5 = my_list[::-1]      # Reversed list [5, 4, 3, 2, 1, 0]\n",
        "```\n",
        "\n",
        "---\n",
        "\n",
        "### 4. Updating List Elements\n",
        "Lists are mutable, so you can modify elements by assigning new values to specific indices. You can also use slicing to update multiple elements at once.\n",
        "\n",
        "```python\n",
        "# Example\n",
        "my_list = [10, 20, 30]\n",
        "my_list[1] = 25              # Updates the second element to 25, so the list is now [10, 25, 30]\n",
        "my_list[1:3] = [40, 50]      # Updates elements at index 1 and 2, so the list becomes [10, 40, 50]\n",
        "```\n",
        "\n",
        "---\n",
        "\n",
        "### 5. List Methods\n",
        "Python lists come with a variety of built-in methods that allow you to add, remove, and manipulate elements. Here are some commonly used ones:\n",
        "\n",
        "- `append(element)`: Adds an element to the end of the list.\n",
        "  \n",
        "  ```python\n",
        "  my_list = [1, 2, 3]\n",
        "  my_list.append(4)  # [1, 2, 3, 4]\n",
        "  ```\n",
        "\n",
        "- `insert(index, element)`: Inserts an element at a specified index, shifting elements to the right.\n",
        "  \n",
        "  ```python\n",
        "  my_list = [1, 2, 3]\n",
        "  my_list.insert(1, 5)  # [1, 5, 2, 3]\n",
        "  ```\n",
        "\n",
        "- `remove(element)`: Removes the first occurrence of a specified element.\n",
        "  \n",
        "  ```python\n",
        "  my_list = [1, 2, 3, 2]\n",
        "  my_list.remove(2)  # [1, 3, 2]\n",
        "  ```\n",
        "\n",
        "- `pop(index)`: Removes and returns the element at a specified index. If no index is provided, it removes the last item.\n",
        "  \n",
        "  ```python\n",
        "  my_list = [1, 2, 3]\n",
        "  removed = my_list.pop()  # removed = 3, list becomes [1, 2]\n",
        "  ```\n",
        "\n",
        "- `extend(iterable)`: Adds elements from an iterable (e.g., another list) to the end of the list.\n",
        "  \n",
        "  ```python\n",
        "  my_list = [1, 2]\n",
        "  my_list.extend([3, 4])  # [1, 2, 3, 4]\n",
        "  ```\n",
        "\n",
        "---\n",
        "\n",
        "### 6. Looping through Lists (using `for` and `while` loops)\n",
        "Looping through lists allows you to perform operations on each element. There are two main types of loops used with lists:\n",
        "\n",
        "- **`for` loop**: Iterates through each element in the list.\n",
        "  \n",
        "  ```python\n",
        "  my_list = [1, 2, 3]\n",
        "  for element in my_list:\n",
        "      print(element)\n",
        "  ```\n",
        "\n",
        "- **`while` loop**: Allows for more flexible iteration, often using an index counter.\n",
        "  \n",
        "  ```python\n",
        "  my_list = [1, 2, 3]\n",
        "  i = 0\n",
        "  while i < len(my_list):\n",
        "      print(my_list[i])\n",
        "      i += 1\n",
        "  ```\n",
        "\n",
        "---\n",
        "\n",
        "### 7. List Comprehensions\n",
        "List comprehensions are a concise way to create new lists by applying an expression to each element in an iterable. They can also include conditions to filter elements.\n",
        "\n",
        "```python\n",
        "# Example\n",
        "squares = [x**2 for x in range(1, 6)]           # [1, 4, 9, 16, 25]\n",
        "evens = [x for x in range(10) if x % 2 == 0]    # [0, 2, 4, 6, 8]\n",
        "```\n",
        "\n",
        "---\n",
        "\n",
        "### 8. Sorting and Reversing Lists\n",
        "Lists can be sorted in ascending or descending order with `sort()` (in-place sorting) or `sorted()` (returns a sorted list without modifying the original list). Lists can also be reversed with `reverse()` or by slicing with a step of `-1`.\n",
        "\n",
        "- **Sort in place**:\n",
        "  \n",
        "  ```python\n",
        "  my_list = [3, 1, 4, 1, 5]\n",
        "  my_list.sort()         # [1, 1, 3, 4, 5]\n",
        "  my_list.sort(reverse=True)  # [5, 4, 3, 1, 1]\n",
        "  ```\n",
        "\n",
        "- **Reversed view**:\n",
        "  \n",
        "  ```python\n",
        "  my_list = [3, 1, 4, 1, 5]\n",
        "  reversed_list = my_list[::-1]  # [5, 1, 4, 1, 3]\n",
        "  ```\n",
        "\n",
        "---\n",
        "\n",
        "### 9. Nested Lists\n",
        "A nested list is a list that contains other lists as its elements, enabling the creation of 2D lists or complex structures.\n",
        "\n",
        "```python\n",
        "# Example\n",
        "matrix = [\n",
        "    [1, 2, 3],\n",
        "    [4, 5, 6],\n",
        "    [7, 8, 9]\n",
        "]\n",
        "print(matrix[1][2])    # Accesses the element 6\n",
        "```\n",
        "\n",
        "---\n",
        "\n",
        "### 10. Using Lists with `min`, `max`, and `sum`\n",
        "Lists often contain numeric values where you may want to find the minimum, maximum, or sum of elements.\n",
        "\n",
        "- `min(list)`: Returns the smallest value.\n",
        "- `max(list)`: Returns the largest value.\n",
        "- `sum(list)`: Returns the sum of all values in the list.\n",
        "\n",
        "```python\n",
        "# Example\n",
        "my_list = [10, 20, 30]\n",
        "min_value = min(my_list)  # 10\n",
        "max_value = max(my_list)  # 30\n",
        "total = sum(my_list)      # 60\n",
        "```\n",
        "\n",
        "---\n",
        "\n",
        "### 11. Finding and Counting\n",
        "\n",
        " Elements\n",
        "Lists have methods for locating and counting specific elements:\n",
        "\n",
        "- `index(value)`: Returns the first index of the specified value.\n",
        "- `count(value)`: Returns the number of times the specified value appears in the list.\n",
        "\n",
        "```python\n",
        "# Example\n",
        "my_list = [1, 2, 3, 2, 4]\n",
        "index_of_2 = my_list.index(2)    # 1\n",
        "count_of_2 = my_list.count(2)    # 2\n",
        "```\n",
        "\n",
        "---\n",
        "\n",
        "### 12. Merging Lists\n",
        "Merging, or concatenating, lists can be done using the `+` operator or the `extend()` method.\n",
        "\n",
        "```python\n",
        "# Example\n",
        "list1 = [1, 2, 3]\n",
        "list2 = [4, 5, 6]\n",
        "merged_list = list1 + list2   # [1, 2, 3, 4, 5, 6]\n",
        "list1.extend(list2)           # list1 becomes [1, 2, 3, 4, 5, 6]\n",
        "```\n",
        "---\n",
        "\n",
        "### 13. **Understanding `enumerate` in Python**\n",
        "\n",
        "The `enumerate` function in Python is a built-in function that simplifies working with lists (or other iterables) when you need both the index and the element in a loop. Instead of using `range(len(list))` and accessing elements by their indices, `enumerate` provides a more readable and concise way to loop over items with their indices directly.\n",
        "\n",
        "#### **Syntax:**\n",
        "\n",
        "```python\n",
        "enumerate(iterable, start=0)\n",
        "```\n",
        "\n",
        "- **`iterable`**: This is the list or sequence you want to loop through.\n",
        "- **`start`**: This optional parameter sets the starting index (default is `0`).\n",
        "\n",
        "#### **How It Works:**\n",
        "\n",
        "When you use `enumerate`, it produces tuples where:\n",
        "- The first item in each tuple is the index of the element.\n",
        "- The second item is the element itself.\n",
        "\n",
        "#### **Example:**\n",
        "\n",
        "```python\n",
        "# Basic list of colors\n",
        "colors = [\"red\", \"blue\", \"green\"]\n",
        "\n",
        "# Using enumerate to loop with index and element\n",
        "for index, color in enumerate(colors):\n",
        "    print(f\"Index {index}: {color}\")\n",
        "```\n",
        "\n",
        "**Output:**\n",
        "```\n",
        "Index 0: red\n",
        "Index 1: blue\n",
        "Index 2: green\n",
        "```\n",
        "\n",
        "In this example:\n",
        "- `enumerate(colors)` provides pairs like `(0, \"red\")`, `(1, \"blue\")`, and so on.\n",
        "- This allows you to access both `index` and `color` in each iteration, which is particularly useful when you need to work with each element's position as well as its value.\n",
        "\n",
        "#### **Using `enumerate` with a Custom Starting Index:**\n",
        "\n",
        "You can change the starting index by setting the `start` parameter.\n",
        "\n",
        "```python\n",
        "for index, color in enumerate(colors, start=1):\n",
        "    print(f\"Color {index}: {color}\")\n",
        "```\n",
        "\n",
        "**Output:**\n",
        "```\n",
        "Color 1: red\n",
        "Color 2: blue\n",
        "Color 3: green\n",
        "```\n",
        "\n",
        "Here, the index starts at `1` instead of the default `0`.\n",
        "\n"
      ]
    },
    {
      "cell_type": "code",
      "execution_count": null,
      "metadata": {
        "trusted": true
      },
      "outputs": [],
      "source": []
    },
    {
      "cell_type": "markdown",
      "metadata": {},
      "source": [
        "## Question 1: Basic List Operations\n",
        "\n",
        "Create a list of integers from 1 to 5. Perform the following tasks:\n",
        "\n",
        "1. Print the entire list.\n",
        "2. Append the integer `6` to the end of the list.\n",
        "3. Insert `0` at the beginning of the list.\n",
        "4. Remove the integer `3` from the list.\n",
        "5. Use `pop` to remove the last element from the list and print it.\n"
      ]
    },
    {
      "cell_type": "code",
      "execution_count": 34,
      "metadata": {
        "trusted": true
      },
      "outputs": [
        {
          "name": "stdout",
          "output_type": "stream",
          "text": [
            "[1, 2, 3, 4, 5, 6]\n",
            "[0, 1, 2, 3, 4, 5, 6]\n",
            "[0, 1, 2, 4, 5, 6]\n",
            "[0, 1, 2, 4, 5]\n"
          ]
        }
      ],
      "source": [
        "a = [1, 2, 3,4,5]\n",
        "a.append(6)\n",
        "print(a)\n",
        "a.insert(0,0)\n",
        "print(a)\n",
        "a.remove(3)\n",
        "print(a)\n",
        "a.pop()\n",
        "print(a)\n"
      ]
    },
    {
      "cell_type": "markdown",
      "metadata": {},
      "source": [
        "## Question 2: Accessing and Slicing\n",
        "\n",
        "Given the list `numbers = [10, 20, 30, 40, 50, 60, 70, 80, 90]`, perform the following tasks:\n",
        "\n",
        "1. Print the first element.\n",
        "2. Print the last element using negative indexing.\n",
        "3. Slice the list to get the first three elements.\n",
        "4. Slice the list to get every second element.\n",
        "5. Reverse the list using slicing.\n"
      ]
    },
    {
      "cell_type": "code",
      "execution_count": 42,
      "metadata": {
        "trusted": true
      },
      "outputs": [
        {
          "name": "stdout",
          "output_type": "stream",
          "text": [
            "10\n",
            "90\n",
            "[10, 20, 30]\n",
            "[10, 30, 50, 70, 90]\n",
            "[90, 80, 70, 60, 50, 40, 30, 20, 10]\n"
          ]
        }
      ],
      "source": [
        "numbers = [10,20,30,40,50,60,70,80,90]\n",
        "print(numbers[0])\n",
        "print(numbers[-1])\n",
        "print(numbers[0:3])\n",
        "print(numbers[::2])\n",
        "print(numbers[::-1])"
      ]
    },
    {
      "cell_type": "markdown",
      "metadata": {},
      "source": [
        "## Question 3: Updating and Modifying Lists\n",
        "\n",
        "Create a list of colors `colors = [\"red\", \"blue\", \"green\", \"yellow\", \"purple\"]`. Perform the following modifications:\n",
        "\n",
        "1. Update the second color to `\"orange\"`.\n",
        "2. Add `\"pink\"` to the end of the list.\n",
        "3. Remove `\"yellow\"` from the list.\n",
        "4. Insert `\"cyan\"` at the third position.\n",
        "5. Print the final list."
      ]
    },
    {
      "cell_type": "code",
      "execution_count": 53,
      "metadata": {
        "trusted": true
      },
      "outputs": [
        {
          "name": "stdout",
          "output_type": "stream",
          "text": [
            "['red', 'orange', 'green', 'yellow', 'purple']\n",
            "['red', 'orange', 'green', 'purple']\n",
            "['red', 'orange', 'cyan', 'green', 'purple']\n"
          ]
        }
      ],
      "source": [
        "colors = [\"red\", \"blue\", \"green\", \"yellow\", \"purple\"]\n",
        "colors[1]=\"orange\"\n",
        "print(colors)\n",
        "colors.remove(\"yellow\")\n",
        "print(colors)\n",
        "colors.insert(2,\"cyan\")\n",
        "print(colors)"
      ]
    },
    {
      "cell_type": "markdown",
      "metadata": {},
      "source": [
        "## Question 4: Using List Comprehensions\n",
        "\n",
        "Given a list `numbers = [1, 2, 3, 4, 5, 6, 7, 8, 9, 10]`, perform the following tasks using list comprehensions:\n",
        "\n",
        "1. Create a new list containing only the even numbers.\n",
        "2. Create a new list with the square of each number.\n"
      ]
    },
    {
      "cell_type": "code",
      "execution_count": 67,
      "metadata": {
        "trusted": true
      },
      "outputs": [
        {
          "name": "stdout",
          "output_type": "stream",
          "text": [
            "[2, 4, 6, 8, 10]\n",
            "[1, 4, 9, 16, 25, 36, 49, 64, 81, 100]\n"
          ]
        }
      ],
      "source": [
        "numbers=[1,2,3,4,5,6,7,8,9,10]\n",
        "even_numbers = [num for num in numbers if num % 2 == 0]\n",
        "print(even_numbers)\n",
        "square_number = [x**2 for x in numbers]\n",
        "print(square_number)"
      ]
    },
    {
      "cell_type": "markdown",
      "metadata": {},
      "source": [
        "\n",
        "## Question 5: Sorting and Reversing Lists\n",
        "\n",
        "Given the list `scores = [45, 22, 75, 88, 34, 56, 99]`, perform the following operations:\n",
        "\n",
        "1. Sort the list in ascending order and print it.\n",
        "2. Sort the list in descending order and print it.\n",
        "3. Reverse the list (after sorting) in place and print it.\n",
        "4. Find and print the minimum and maximum scores."
      ]
    },
    {
      "cell_type": "code",
      "execution_count": 80,
      "metadata": {
        "trusted": true
      },
      "outputs": [
        {
          "name": "stdout",
          "output_type": "stream",
          "text": [
            "[22, 34, 45, 56, 75, 88, 99]\n",
            "[99, 88, 75, 56, 45, 34, 22]\n",
            "[22, 34, 45, 56, 75, 88, 99]\n",
            "99\n",
            "22\n"
          ]
        }
      ],
      "source": [
        "scores = [45,22,75,88,34,56,99]\n",
        "scores.sort()\n",
        "print(scores)\n",
        "scores.sort(reverse=True)\n",
        "print(scores)\n",
        "print(scores[::-1])\n",
        "max_value=max(scores)\n",
        "print(max_value)\n",
        "min_value=min(scores)\n",
        "print(min_value)"
      ]
    },
    {
      "cell_type": "markdown",
      "metadata": {},
      "source": [
        "## Question 6: Working with Nested Lists (2D Lists)\n",
        "\n",
        "Given a nested list representing grades of students across three subjects:\n",
        "\n",
        "```python\n",
        "grades = [\n",
        "    [85, 90, 78],  # Grades of Student 1\n",
        "    [76, 88, 91],  # Grades of Student 2\n",
        "    [92, 89, 85],  # Grades of Student 3\n",
        "]\n",
        "```\n",
        "\n",
        "Perform the following tasks:\n",
        "\n",
        "1. Print each student's grades.\n",
        "2. Calculate and print the average grade for each student.\n",
        "3. Extract and print all grades for the second subject across students.\n",
        "4. Add grades `[80, 77, 93]` for a new student."
      ]
    },
    {
      "cell_type": "code",
      "execution_count": 90,
      "metadata": {
        "trusted": true
      },
      "outputs": [
        {
          "name": "stdout",
          "output_type": "stream",
          "text": [
            "[[85, 90, 78], [76, 88, 91], [92, 89, 85]]\n",
            "Average grade for Student 1: 84.33\n",
            "Average grade for Student 2: 85.00\n",
            "Average grade for Student 3: 88.67\n",
            "Grades for the second subject: [90, 88, 89]\n",
            "Updated grades list: [[85, 90, 78], [76, 88, 91], [92, 89, 85], [80, 77, 93]]\n"
          ]
        }
      ],
      "source": [
        "grades = [\n",
        "    [85, 90, 78],  # Grades of Student 1\n",
        "    [76, 88, 91],  # Grades of Student 2\n",
        "    [92, 89, 85],  # Grades of Student 3\n",
        "]\n",
        "print(grades)\n",
        "for i, student_grades in enumerate(grades, start=1):\n",
        "    avg_grade = sum(student_grades) / len(student_grades)  # Calculate average\n",
        "    print(f\"Average grade for Student {i}: {avg_grade:.2f}\")  # Print with 2 decimal places\n",
        "    \n",
        "second_subject_grades = [student[1] for student in grades]  # Extract second subject grades\n",
        "print(\"Grades for the second subject:\", second_subject_grades)\n",
        "\n",
        "grades.append([80, 77, 93])  # Adding a new student's grades\n",
        "print(\"Updated grades list:\", grades)"
      ]
    },
    {
      "cell_type": "code",
      "execution_count": null,
      "metadata": {},
      "outputs": [],
      "source": []
    }
  ],
  "metadata": {
    "kernelspec": {
      "display_name": "base",
      "language": "python",
      "name": "python3"
    },
    "language_info": {
      "codemirror_mode": {
        "name": "ipython",
        "version": 3
      },
      "file_extension": ".py",
      "mimetype": "text/x-python",
      "name": "python",
      "nbconvert_exporter": "python",
      "pygments_lexer": "ipython3",
      "version": "3.12.7"
    }
  },
  "nbformat": 4,
  "nbformat_minor": 4
}
